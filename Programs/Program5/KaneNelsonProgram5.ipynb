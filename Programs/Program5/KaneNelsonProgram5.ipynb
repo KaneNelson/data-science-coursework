{
 "cells": [
  {
   "cell_type": "markdown",
   "metadata": {},
   "source": [
    "# Program 5 - Pandas: Merge, Group and Aggregation"
   ]
  },
  {
   "cell_type": "code",
   "execution_count": 1,
   "metadata": {},
   "outputs": [],
   "source": [
    "import pandas as pd\n",
    "import numpy as np"
   ]
  },
  {
   "cell_type": "markdown",
   "metadata": {},
   "source": [
    "## Merge questions (Q1-3)"
   ]
  },
  {
   "cell_type": "markdown",
   "metadata": {},
   "source": [
    "#### Question 1\n",
    "\n",
    "Use the `merge` or `join` function to merge two dataframe `staff_df` and `student_df`, figure out the argument options yourself so that the merged dataframe should look like the expected output."
   ]
  },
  {
   "cell_type": "code",
   "execution_count": 2,
   "metadata": {
    "umich_question": "000"
   },
   "outputs": [
    {
     "data": {
      "text/html": [
       "<div>\n",
       "<style scoped>\n",
       "    .dataframe tbody tr th:only-of-type {\n",
       "        vertical-align: middle;\n",
       "    }\n",
       "\n",
       "    .dataframe tbody tr th {\n",
       "        vertical-align: top;\n",
       "    }\n",
       "\n",
       "    .dataframe thead th {\n",
       "        text-align: right;\n",
       "    }\n",
       "</style>\n",
       "<table border=\"1\" class=\"dataframe\">\n",
       "  <thead>\n",
       "    <tr style=\"text-align: right;\">\n",
       "      <th></th>\n",
       "      <th>Role</th>\n",
       "      <th>School</th>\n",
       "    </tr>\n",
       "    <tr>\n",
       "      <th>Name</th>\n",
       "      <th></th>\n",
       "      <th></th>\n",
       "    </tr>\n",
       "  </thead>\n",
       "  <tbody>\n",
       "    <tr>\n",
       "      <th>Tim</th>\n",
       "      <td>Director of HR</td>\n",
       "      <td>NaN</td>\n",
       "    </tr>\n",
       "    <tr>\n",
       "      <th>Sandy</th>\n",
       "      <td>Secretary</td>\n",
       "      <td>Engineering</td>\n",
       "    </tr>\n",
       "    <tr>\n",
       "      <th>John</th>\n",
       "      <td>System support</td>\n",
       "      <td>Business</td>\n",
       "    </tr>\n",
       "  </tbody>\n",
       "</table>\n",
       "</div>"
      ],
      "text/plain": [
       "                 Role       School\n",
       "Name                              \n",
       "Tim    Director of HR          NaN\n",
       "Sandy       Secretary  Engineering\n",
       "John   System support     Business"
      ]
     },
     "execution_count": 2,
     "metadata": {},
     "output_type": "execute_result"
    }
   ],
   "source": [
    "staff_df = pd.DataFrame([{'Name': 'Tim', 'Role': 'Director of HR'},\n",
    "                         {'Name': 'Sandy', 'Role': 'Secretary'},\n",
    "                         {'Name': 'John', 'Role': 'System support'}])\n",
    "staff_df = staff_df.set_index('Name')\n",
    "student_df = pd.DataFrame([{'Name': 'John', 'School': 'Business'},\n",
    "                           {'Name': 'Mike', 'School': 'Medicine'},\n",
    "                           {'Name': 'Sandy', 'School': 'Engineering'}])\n",
    "student_df = student_df.set_index('Name')\n",
    "\n",
    "def question_one():\n",
    "    \n",
    "    return staff_df.join(student_df)\n",
    "    \n",
    "    \n",
    "# do not change the code below  \n",
    "question_one()"
   ]
  },
  {
   "cell_type": "markdown",
   "metadata": {},
   "source": [
    "# **Expected output**\n",
    "\n",
    "|     <br><br> Name   |Role <br>\t      |School <br>   |\n",
    "|--------------------:|------------------:|-------------:|\n",
    "|Tim\t              |Director of HR     |NaN           |\n",
    "|Sandy\t              |Secretary\t      |Engineering   |\n",
    "|John\t              |System support     |Business      |"
   ]
  },
  {
   "cell_type": "markdown",
   "metadata": {},
   "source": [
    "#### Question 2\n",
    "\n",
    "Use the `merge` or `join` function to merge two dataframe `staff_df` and `student_df`, figure out the argument options yourself so that the merged dataframe should look like the following:\n",
    "\n",
    "|\tName|\tRole\t|School|\n",
    "|-------|-----------|------|\n",
    "|0\t|Tim\t|Director of HR\t|NaN|\n",
    "|1\t|Sandy\t|Secretary\t|Engineering|\n",
    "|2\t|John\t|System support\t|Business|\n",
    "|3\t|Mike\t|NaN\t|Medicine|"
   ]
  },
  {
   "cell_type": "code",
   "execution_count": 3,
   "metadata": {
    "umich_question": "000"
   },
   "outputs": [
    {
     "data": {
      "text/html": [
       "<div>\n",
       "<style scoped>\n",
       "    .dataframe tbody tr th:only-of-type {\n",
       "        vertical-align: middle;\n",
       "    }\n",
       "\n",
       "    .dataframe tbody tr th {\n",
       "        vertical-align: top;\n",
       "    }\n",
       "\n",
       "    .dataframe thead th {\n",
       "        text-align: right;\n",
       "    }\n",
       "</style>\n",
       "<table border=\"1\" class=\"dataframe\">\n",
       "  <thead>\n",
       "    <tr style=\"text-align: right;\">\n",
       "      <th></th>\n",
       "      <th>Name</th>\n",
       "      <th>Role</th>\n",
       "      <th>School</th>\n",
       "    </tr>\n",
       "  </thead>\n",
       "  <tbody>\n",
       "    <tr>\n",
       "      <th>0</th>\n",
       "      <td>Tim</td>\n",
       "      <td>Director of HR</td>\n",
       "      <td>NaN</td>\n",
       "    </tr>\n",
       "    <tr>\n",
       "      <th>1</th>\n",
       "      <td>Sandy</td>\n",
       "      <td>Secretary</td>\n",
       "      <td>Engineering</td>\n",
       "    </tr>\n",
       "    <tr>\n",
       "      <th>2</th>\n",
       "      <td>John</td>\n",
       "      <td>System support</td>\n",
       "      <td>Business</td>\n",
       "    </tr>\n",
       "    <tr>\n",
       "      <th>3</th>\n",
       "      <td>Mike</td>\n",
       "      <td>NaN</td>\n",
       "      <td>Medicine</td>\n",
       "    </tr>\n",
       "  </tbody>\n",
       "</table>\n",
       "</div>"
      ],
      "text/plain": [
       "    Name            Role       School\n",
       "0    Tim  Director of HR          NaN\n",
       "1  Sandy       Secretary  Engineering\n",
       "2   John  System support     Business\n",
       "3   Mike             NaN     Medicine"
      ]
     },
     "execution_count": 3,
     "metadata": {},
     "output_type": "execute_result"
    }
   ],
   "source": [
    "staff_df = pd.DataFrame([{'Name': 'Tim', 'Role': 'Director of HR'},\n",
    "                         {'Name': 'Sandy', 'Role': 'Secretary'},\n",
    "                         {'Name': 'John', 'Role': 'System support'}])\n",
    "student_df = pd.DataFrame([{'Name': 'John', 'School': 'Business'},\n",
    "                           {'Name': 'Mike', 'School': 'Medicine'},\n",
    "                           {'Name': 'Sandy', 'School': 'Engineering'}])\n",
    "def question_two():\n",
    "\n",
    "    return pd.merge(staff_df, student_df, how='outer')\n",
    "    \n",
    "# do not change the code below  \n",
    "question_two()"
   ]
  },
  {
   "cell_type": "markdown",
   "metadata": {},
   "source": [
    "**Expected output**\n",
    "\n",
    "| |\tName|\tRole\t|School|\n",
    "|-|-------|-----------|------|\n",
    "|0\t|Tim\t|Director of HR\t|NaN|\n",
    "|1\t|Sandy\t|Secretary\t|Engineering|\n",
    "|2\t|John\t|System support\t|Business|\n",
    "|3\t|Mike\t|NaN\t|Medicine|\n",
    "\n"
   ]
  },
  {
   "cell_type": "markdown",
   "metadata": {},
   "source": [
    "#### Question 3\n",
    "\n",
    "Use the `merge` or `join` function to merge two dataframe `staff_df3` and `student_df3`, figure out the argument options yourself so that the merged dataframe should look like the expected output.\n",
    "\n",
    "Hint: use multiple key [`First Name`,`Last Name`]\n"
   ]
  },
  {
   "cell_type": "code",
   "execution_count": 4,
   "metadata": {
    "scrolled": true,
    "umich_question": "000"
   },
   "outputs": [
    {
     "data": {
      "text/html": [
       "<div>\n",
       "<style scoped>\n",
       "    .dataframe tbody tr th:only-of-type {\n",
       "        vertical-align: middle;\n",
       "    }\n",
       "\n",
       "    .dataframe tbody tr th {\n",
       "        vertical-align: top;\n",
       "    }\n",
       "\n",
       "    .dataframe thead th {\n",
       "        text-align: right;\n",
       "    }\n",
       "</style>\n",
       "<table border=\"1\" class=\"dataframe\">\n",
       "  <thead>\n",
       "    <tr style=\"text-align: right;\">\n",
       "      <th></th>\n",
       "      <th>First Name</th>\n",
       "      <th>Last Name</th>\n",
       "      <th>Role</th>\n",
       "      <th>School</th>\n",
       "    </tr>\n",
       "  </thead>\n",
       "  <tbody>\n",
       "    <tr>\n",
       "      <th>0</th>\n",
       "      <td>Sally</td>\n",
       "      <td>Brooks</td>\n",
       "      <td>Course liasion</td>\n",
       "      <td>Engineering</td>\n",
       "    </tr>\n",
       "  </tbody>\n",
       "</table>\n",
       "</div>"
      ],
      "text/plain": [
       "  First Name Last Name            Role       School\n",
       "0      Sally    Brooks  Course liasion  Engineering"
      ]
     },
     "execution_count": 4,
     "metadata": {},
     "output_type": "execute_result"
    }
   ],
   "source": [
    "staff_df3 = pd.DataFrame([{'First Name': 'Kelly', 'Last Name': 'Desjardins', 'Role': 'Director of HR'},\n",
    "                         {'First Name': 'Sally', 'Last Name': 'Brooks', 'Role': 'Course liasion'},\n",
    "                         {'First Name': 'James', 'Last Name': 'Wilde', 'Role': 'Grader'}])\n",
    "student_df3 = pd.DataFrame([{'First Name': 'James', 'Last Name': 'Hammond', 'School': 'Business'},\n",
    "                           {'First Name': 'Mike', 'Last Name': 'Smith', 'School': 'Law'},\n",
    "                           {'First Name': 'Sally', 'Last Name': 'Brooks', 'School': 'Engineering'}])\n",
    "\n",
    "def question_three():\n",
    "\n",
    "    return pd.merge(staff_df3, student_df3)\n",
    "    \n",
    "# do not change the code below  \n",
    "question_three()"
   ]
  },
  {
   "cell_type": "markdown",
   "metadata": {},
   "source": [
    "**Expected output**\n",
    "\n",
    "| |First Name|Last Name|Role|School|\n",
    "|-|----------|---------|----|------|\n",
    "|0|Sally\t|Brooks\t|Course liasion|Engineering|"
   ]
  },
  {
   "cell_type": "code",
   "execution_count": null,
   "metadata": {},
   "outputs": [],
   "source": []
  },
  {
   "cell_type": "markdown",
   "metadata": {},
   "source": [
    "## Grouping & aggregation questions (Q4-10)\n",
    "\n",
    "\n",
    "**Note**: These questions are based on dataset of `census.csv`, and `groupby('STNAME')`"
   ]
  },
  {
   "cell_type": "code",
   "execution_count": 5,
   "metadata": {},
   "outputs": [],
   "source": [
    "df = pd.read_csv('census.csv')\n",
    "df = df[df['SUMLEV']==50]       # exclude the rows with SUMLEV==40 so that all rows are city-based\n",
    "#df.head(2)"
   ]
  },
  {
   "cell_type": "markdown",
   "metadata": {},
   "source": [
    "#### Question 4:  Group iteration\n",
    "\n",
    "Iterate over the groups based on `groupby('STNAME')`, print out [group name(i.e., state) + group shape (each group is a dataframe)] of the states whose group labels are 0, 10, 20, 30, 40, 50, assuming the first group Alabama is labeled as 0, the second group labeled as 1, etc.\n",
    "\n",
    "Your output should look like the expected output."
   ]
  },
  {
   "cell_type": "code",
   "execution_count": 6,
   "metadata": {
    "scrolled": true
   },
   "outputs": [
    {
     "name": "stdout",
     "output_type": "stream",
     "text": [
      "Alabama                        (67, 100)\n",
      "Georgia                        (159, 100)\n",
      "Maryland                       (24, 100)\n",
      "New Jersey                     (21, 100)\n",
      "South Carolina                 (46, 100)\n",
      "Wyoming                        (23, 100)\n"
     ]
    }
   ],
   "source": [
    "def question_four():\n",
    "\n",
    "    # i is used to label group (or state)\n",
    "    i = 0\n",
    "   \n",
    "    \n",
    "    for state, group in df.groupby('STNAME'):\n",
    "        if i % 10 == 0:\n",
    "            print(\"{0:30} {1}\".format(state, group.shape))\n",
    "        \n",
    "        i+=1\n",
    "\n",
    "    \n",
    "    \n",
    "# do not change the code below  \n",
    "question_four()"
   ]
  },
  {
   "cell_type": "markdown",
   "metadata": {},
   "source": [
    "**Expected output**"
   ]
  },
  {
   "cell_type": "raw",
   "metadata": {},
   "source": [
    "                        Alabama              (67, 100)\n",
    "                        Georgia              (159, 100)\n",
    "                        Maryland             (24, 100)\n",
    "                        New Jersey           (21, 100)\n",
    "                        South Carolina       (46, 100)\n",
    "                        Wyoming              (23, 100)"
   ]
  },
  {
   "cell_type": "markdown",
   "metadata": {},
   "source": [
    "#### Question 5: Group apply/aggregation\n",
    "\n",
    "Use groupby object's aggregate or apply function to generate a new dataframe named as `df_state_agg_pop`, which should contain the following columns: [`STNAME,\taverage_pop,\ttotal_pop,\tlargest_city_pop,\tsmallest_city_pop,\tcounties`].\n",
    "\n",
    " |Column Name | Description|\n",
    " |:-----------|:-----------|\n",
    " |STNAME |State name|\n",
    " |average_pop|Average city popopulation for each state, based on the column CENSUS2010POP|\n",
    " |total_pop|Total popopulation for each state, based on the column CENSUS2010PO|\n",
    " |largest_city_pop|Largest city popopulation for each state, based on the column CENSUS2010POP|\n",
    " |smallest_city_pop|Smallest city popopulation for each state, based on the column CENSUS2010PO|\n",
    " |counties|Total number of cities for each state|\n",
    "\n",
    "Additional resources: https://pbpython.com/groupby-agg.html"
   ]
  },
  {
   "cell_type": "code",
   "execution_count": 7,
   "metadata": {},
   "outputs": [
    {
     "data": {
      "text/html": [
       "<div>\n",
       "<style scoped>\n",
       "    .dataframe tbody tr th:only-of-type {\n",
       "        vertical-align: middle;\n",
       "    }\n",
       "\n",
       "    .dataframe tbody tr th {\n",
       "        vertical-align: top;\n",
       "    }\n",
       "\n",
       "    .dataframe thead th {\n",
       "        text-align: right;\n",
       "    }\n",
       "</style>\n",
       "<table border=\"1\" class=\"dataframe\">\n",
       "  <thead>\n",
       "    <tr style=\"text-align: right;\">\n",
       "      <th></th>\n",
       "      <th>STNAME</th>\n",
       "      <th>average_pop</th>\n",
       "      <th>total_pop</th>\n",
       "      <th>largest_city_pop</th>\n",
       "      <th>smallest_city_pop</th>\n",
       "      <th>counties</th>\n",
       "    </tr>\n",
       "  </thead>\n",
       "  <tbody>\n",
       "    <tr>\n",
       "      <th>0</th>\n",
       "      <td>Alabama</td>\n",
       "      <td>71339.343284</td>\n",
       "      <td>4779736</td>\n",
       "      <td>658466</td>\n",
       "      <td>9045</td>\n",
       "      <td>67</td>\n",
       "    </tr>\n",
       "    <tr>\n",
       "      <th>1</th>\n",
       "      <td>Alaska</td>\n",
       "      <td>24490.724138</td>\n",
       "      <td>710231</td>\n",
       "      <td>291826</td>\n",
       "      <td>662</td>\n",
       "      <td>29</td>\n",
       "    </tr>\n",
       "    <tr>\n",
       "      <th>2</th>\n",
       "      <td>Arizona</td>\n",
       "      <td>426134.466667</td>\n",
       "      <td>6392017</td>\n",
       "      <td>3817117</td>\n",
       "      <td>8437</td>\n",
       "      <td>15</td>\n",
       "    </tr>\n",
       "    <tr>\n",
       "      <th>3</th>\n",
       "      <td>Arkansas</td>\n",
       "      <td>38878.906667</td>\n",
       "      <td>2915918</td>\n",
       "      <td>382748</td>\n",
       "      <td>5368</td>\n",
       "      <td>75</td>\n",
       "    </tr>\n",
       "    <tr>\n",
       "      <th>4</th>\n",
       "      <td>California</td>\n",
       "      <td>642309.586207</td>\n",
       "      <td>37253956</td>\n",
       "      <td>9818605</td>\n",
       "      <td>1175</td>\n",
       "      <td>58</td>\n",
       "    </tr>\n",
       "  </tbody>\n",
       "</table>\n",
       "</div>"
      ],
      "text/plain": [
       "       STNAME    average_pop  total_pop  largest_city_pop  smallest_city_pop  \\\n",
       "0     Alabama   71339.343284    4779736            658466               9045   \n",
       "1      Alaska   24490.724138     710231            291826                662   \n",
       "2     Arizona  426134.466667    6392017           3817117               8437   \n",
       "3    Arkansas   38878.906667    2915918            382748               5368   \n",
       "4  California  642309.586207   37253956           9818605               1175   \n",
       "\n",
       "   counties  \n",
       "0        67  \n",
       "1        29  \n",
       "2        15  \n",
       "3        75  \n",
       "4        58  "
      ]
     },
     "execution_count": 7,
     "metadata": {},
     "output_type": "execute_result"
    }
   ],
   "source": [
    "# named aggregation\n",
    "df_state_agg_pop = None\n",
    "\n",
    "def question_five():\n",
    "\n",
    "\n",
    "    df_state_agg_pop = df.groupby('STNAME')['CENSUS2010POP'].aggregate(average_pop='mean', total_pop='sum', \n",
    "                                                                       largest_city_pop='max', smallest_city_pop='min',\n",
    "                                                                       counties='count')\n",
    "    df_state_agg_pop = df_state_agg_pop.reset_index()\n",
    "    \n",
    "    \n",
    "    return df_state_agg_pop\n",
    "\n",
    "# do not change the code below  \n",
    "df_state_agg_pop = question_five()\n",
    "df_state_agg_pop.head()"
   ]
  },
  {
   "cell_type": "markdown",
   "metadata": {},
   "source": [
    "**Expected output**\n",
    "\n",
    "<img src=\"images/p5_output5.png\" style=\"width: 500px;\">"
   ]
  },
  {
   "cell_type": "markdown",
   "metadata": {},
   "source": [
    "#### Question 6: DataFrame selection and filter\n",
    "\n",
    "Create a new dataframe `df_state_city`, based on the original dataframe df. The new dataframe contains the following columns: [STNAME,\tCTYNAME,\tCENSUS2010POP]"
   ]
  },
  {
   "cell_type": "code",
   "execution_count": 9,
   "metadata": {},
   "outputs": [
    {
     "data": {
      "text/html": [
       "<div>\n",
       "<style scoped>\n",
       "    .dataframe tbody tr th:only-of-type {\n",
       "        vertical-align: middle;\n",
       "    }\n",
       "\n",
       "    .dataframe tbody tr th {\n",
       "        vertical-align: top;\n",
       "    }\n",
       "\n",
       "    .dataframe thead th {\n",
       "        text-align: right;\n",
       "    }\n",
       "</style>\n",
       "<table border=\"1\" class=\"dataframe\">\n",
       "  <thead>\n",
       "    <tr style=\"text-align: right;\">\n",
       "      <th></th>\n",
       "      <th>STNAME</th>\n",
       "      <th>CTYNAME</th>\n",
       "      <th>CENSUS2010POP</th>\n",
       "    </tr>\n",
       "  </thead>\n",
       "  <tbody>\n",
       "    <tr>\n",
       "      <th>1</th>\n",
       "      <td>Alabama</td>\n",
       "      <td>Autauga County</td>\n",
       "      <td>54571</td>\n",
       "    </tr>\n",
       "    <tr>\n",
       "      <th>2</th>\n",
       "      <td>Alabama</td>\n",
       "      <td>Baldwin County</td>\n",
       "      <td>182265</td>\n",
       "    </tr>\n",
       "    <tr>\n",
       "      <th>3</th>\n",
       "      <td>Alabama</td>\n",
       "      <td>Barbour County</td>\n",
       "      <td>27457</td>\n",
       "    </tr>\n",
       "    <tr>\n",
       "      <th>4</th>\n",
       "      <td>Alabama</td>\n",
       "      <td>Bibb County</td>\n",
       "      <td>22915</td>\n",
       "    </tr>\n",
       "    <tr>\n",
       "      <th>5</th>\n",
       "      <td>Alabama</td>\n",
       "      <td>Blount County</td>\n",
       "      <td>57322</td>\n",
       "    </tr>\n",
       "  </tbody>\n",
       "</table>\n",
       "</div>"
      ],
      "text/plain": [
       "    STNAME         CTYNAME  CENSUS2010POP\n",
       "1  Alabama  Autauga County          54571\n",
       "2  Alabama  Baldwin County         182265\n",
       "3  Alabama  Barbour County          27457\n",
       "4  Alabama     Bibb County          22915\n",
       "5  Alabama   Blount County          57322"
      ]
     },
     "execution_count": 9,
     "metadata": {},
     "output_type": "execute_result"
    }
   ],
   "source": [
    "df_state_city=None\n",
    "\n",
    "def question_six():\n",
    "\n",
    "    df_state_city = df.filter(['STNAME', 'CTYNAME', 'CENSUS2010POP'])\n",
    "\n",
    "    \n",
    "    return df_state_city\n",
    "\n",
    "# do not change the code below  \n",
    "df_state_city = question_six()\n",
    "df_state_city.head()"
   ]
  },
  {
   "cell_type": "markdown",
   "metadata": {},
   "source": [
    "**Expected output**\n",
    "\n",
    "<img src=\"images/p5_output6.png\" style=\"width: 300px;\">"
   ]
  },
  {
   "cell_type": "markdown",
   "metadata": {},
   "source": [
    "#### Question 7: Pandas merge\n",
    "\n",
    "Create a new dataframe `df_state_city_agg_pop`, by merging two dataframes `df_state_city` and `df_state_pop`. \n",
    "\n",
    "**Note**: The two frames share the common column `STNAME`"
   ]
  },
  {
   "cell_type": "code",
   "execution_count": 10,
   "metadata": {},
   "outputs": [
    {
     "data": {
      "text/html": [
       "<div>\n",
       "<style scoped>\n",
       "    .dataframe tbody tr th:only-of-type {\n",
       "        vertical-align: middle;\n",
       "    }\n",
       "\n",
       "    .dataframe tbody tr th {\n",
       "        vertical-align: top;\n",
       "    }\n",
       "\n",
       "    .dataframe thead th {\n",
       "        text-align: right;\n",
       "    }\n",
       "</style>\n",
       "<table border=\"1\" class=\"dataframe\">\n",
       "  <thead>\n",
       "    <tr style=\"text-align: right;\">\n",
       "      <th></th>\n",
       "      <th>STNAME</th>\n",
       "      <th>CTYNAME</th>\n",
       "      <th>CENSUS2010POP</th>\n",
       "      <th>average_pop</th>\n",
       "      <th>total_pop</th>\n",
       "      <th>largest_city_pop</th>\n",
       "      <th>smallest_city_pop</th>\n",
       "      <th>counties</th>\n",
       "    </tr>\n",
       "  </thead>\n",
       "  <tbody>\n",
       "    <tr>\n",
       "      <th>0</th>\n",
       "      <td>Alabama</td>\n",
       "      <td>Autauga County</td>\n",
       "      <td>54571</td>\n",
       "      <td>71339.343284</td>\n",
       "      <td>4779736</td>\n",
       "      <td>658466</td>\n",
       "      <td>9045</td>\n",
       "      <td>67</td>\n",
       "    </tr>\n",
       "    <tr>\n",
       "      <th>1</th>\n",
       "      <td>Alabama</td>\n",
       "      <td>Baldwin County</td>\n",
       "      <td>182265</td>\n",
       "      <td>71339.343284</td>\n",
       "      <td>4779736</td>\n",
       "      <td>658466</td>\n",
       "      <td>9045</td>\n",
       "      <td>67</td>\n",
       "    </tr>\n",
       "    <tr>\n",
       "      <th>2</th>\n",
       "      <td>Alabama</td>\n",
       "      <td>Barbour County</td>\n",
       "      <td>27457</td>\n",
       "      <td>71339.343284</td>\n",
       "      <td>4779736</td>\n",
       "      <td>658466</td>\n",
       "      <td>9045</td>\n",
       "      <td>67</td>\n",
       "    </tr>\n",
       "    <tr>\n",
       "      <th>3</th>\n",
       "      <td>Alabama</td>\n",
       "      <td>Bibb County</td>\n",
       "      <td>22915</td>\n",
       "      <td>71339.343284</td>\n",
       "      <td>4779736</td>\n",
       "      <td>658466</td>\n",
       "      <td>9045</td>\n",
       "      <td>67</td>\n",
       "    </tr>\n",
       "    <tr>\n",
       "      <th>4</th>\n",
       "      <td>Alabama</td>\n",
       "      <td>Blount County</td>\n",
       "      <td>57322</td>\n",
       "      <td>71339.343284</td>\n",
       "      <td>4779736</td>\n",
       "      <td>658466</td>\n",
       "      <td>9045</td>\n",
       "      <td>67</td>\n",
       "    </tr>\n",
       "  </tbody>\n",
       "</table>\n",
       "</div>"
      ],
      "text/plain": [
       "    STNAME         CTYNAME  CENSUS2010POP   average_pop  total_pop  \\\n",
       "0  Alabama  Autauga County          54571  71339.343284    4779736   \n",
       "1  Alabama  Baldwin County         182265  71339.343284    4779736   \n",
       "2  Alabama  Barbour County          27457  71339.343284    4779736   \n",
       "3  Alabama     Bibb County          22915  71339.343284    4779736   \n",
       "4  Alabama   Blount County          57322  71339.343284    4779736   \n",
       "\n",
       "   largest_city_pop  smallest_city_pop  counties  \n",
       "0            658466               9045        67  \n",
       "1            658466               9045        67  \n",
       "2            658466               9045        67  \n",
       "3            658466               9045        67  \n",
       "4            658466               9045        67  "
      ]
     },
     "execution_count": 10,
     "metadata": {},
     "output_type": "execute_result"
    }
   ],
   "source": [
    "# pd merge\n",
    "df_state_city_agg_pop=None\n",
    "\n",
    "def question_seven():\n",
    "\n",
    "    df_state_city_agg_pop = pd.merge(df_state_city, df_state_agg_pop, on='STNAME')\n",
    "    \n",
    "    return df_state_city_agg_pop\n",
    "\n",
    "# do not change the code below  \n",
    "df_state_city_agg_pop=question_seven()\n",
    "df_state_city_agg_pop.head()"
   ]
  },
  {
   "cell_type": "markdown",
   "metadata": {},
   "source": [
    "**Expected output**\n",
    "\n",
    "<img src=\"images/p5_output7.png\" style=\"width: 700px;\">"
   ]
  },
  {
   "cell_type": "markdown",
   "metadata": {},
   "source": [
    "#### Question 8: Filter\n",
    "\n",
    "Filter the dataframe `df_state_city_agg_pop` so that :\n",
    " - Only the row of the largest population city for each state will be retained. \n",
    " - Only the columns [`'STNAME','CTYNAME','CENSUS2010POP','largest_city_pop'`] will be retained. \n",
    "\n",
    "Save this result in a new frame as `df_state_largest_city_pop`"
   ]
  },
  {
   "cell_type": "code",
   "execution_count": 11,
   "metadata": {},
   "outputs": [
    {
     "data": {
      "text/html": [
       "<div>\n",
       "<style scoped>\n",
       "    .dataframe tbody tr th:only-of-type {\n",
       "        vertical-align: middle;\n",
       "    }\n",
       "\n",
       "    .dataframe tbody tr th {\n",
       "        vertical-align: top;\n",
       "    }\n",
       "\n",
       "    .dataframe thead th {\n",
       "        text-align: right;\n",
       "    }\n",
       "</style>\n",
       "<table border=\"1\" class=\"dataframe\">\n",
       "  <thead>\n",
       "    <tr style=\"text-align: right;\">\n",
       "      <th></th>\n",
       "      <th>STNAME</th>\n",
       "      <th>CTYNAME</th>\n",
       "      <th>CENSUS2010POP</th>\n",
       "      <th>largest_city_pop</th>\n",
       "    </tr>\n",
       "  </thead>\n",
       "  <tbody>\n",
       "    <tr>\n",
       "      <th>0</th>\n",
       "      <td>Alabama</td>\n",
       "      <td>Jefferson County</td>\n",
       "      <td>658466</td>\n",
       "      <td>658466</td>\n",
       "    </tr>\n",
       "    <tr>\n",
       "      <th>1</th>\n",
       "      <td>Alaska</td>\n",
       "      <td>Anchorage Municipality</td>\n",
       "      <td>291826</td>\n",
       "      <td>291826</td>\n",
       "    </tr>\n",
       "    <tr>\n",
       "      <th>2</th>\n",
       "      <td>Arizona</td>\n",
       "      <td>Maricopa County</td>\n",
       "      <td>3817117</td>\n",
       "      <td>3817117</td>\n",
       "    </tr>\n",
       "    <tr>\n",
       "      <th>3</th>\n",
       "      <td>Arkansas</td>\n",
       "      <td>Pulaski County</td>\n",
       "      <td>382748</td>\n",
       "      <td>382748</td>\n",
       "    </tr>\n",
       "    <tr>\n",
       "      <th>4</th>\n",
       "      <td>California</td>\n",
       "      <td>Los Angeles County</td>\n",
       "      <td>9818605</td>\n",
       "      <td>9818605</td>\n",
       "    </tr>\n",
       "  </tbody>\n",
       "</table>\n",
       "</div>"
      ],
      "text/plain": [
       "       STNAME                 CTYNAME  CENSUS2010POP  largest_city_pop\n",
       "0     Alabama        Jefferson County         658466            658466\n",
       "1      Alaska  Anchorage Municipality         291826            291826\n",
       "2     Arizona         Maricopa County        3817117           3817117\n",
       "3    Arkansas          Pulaski County         382748            382748\n",
       "4  California      Los Angeles County        9818605           9818605"
      ]
     },
     "execution_count": 11,
     "metadata": {},
     "output_type": "execute_result"
    }
   ],
   "source": [
    "# find the largest population city for each state\n",
    "df_state_largest_city_pop = None\n",
    "\n",
    "def question_eight():\n",
    "\n",
    "    df_state_largest_city_pop = pd.merge(df_state_city_agg_pop.groupby('STNAME')['CENSUS2010POP'].max(), df_state_city_agg_pop) \n",
    "    df_state_largest_city_pop = df_state_largest_city_pop.filter(['STNAME','CTYNAME','CENSUS2010POP','largest_city_pop'])\n",
    "    \n",
    "    return df_state_largest_city_pop\n",
    "\n",
    "# do not change the code below  \n",
    "df_state_largest_city_pop=question_eight()\n",
    "df_state_largest_city_pop.head()"
   ]
  },
  {
   "cell_type": "markdown",
   "metadata": {},
   "source": [
    "**Expected output**\n",
    "\n",
    "<img src=\"images/p5_output8.png\" style=\"width: 500px;\">"
   ]
  },
  {
   "cell_type": "markdown",
   "metadata": {},
   "source": [
    "#### Question 9: Pandas string\n",
    "\n",
    "From the dataframe `df_state_largest_city_pop`, find the largest population city for states whose state names start with 'N'.\n",
    "\n",
    "**Hint**: Should return 8 records."
   ]
  },
  {
   "cell_type": "code",
   "execution_count": 12,
   "metadata": {},
   "outputs": [
    {
     "data": {
      "text/html": [
       "<div>\n",
       "<style scoped>\n",
       "    .dataframe tbody tr th:only-of-type {\n",
       "        vertical-align: middle;\n",
       "    }\n",
       "\n",
       "    .dataframe tbody tr th {\n",
       "        vertical-align: top;\n",
       "    }\n",
       "\n",
       "    .dataframe thead th {\n",
       "        text-align: right;\n",
       "    }\n",
       "</style>\n",
       "<table border=\"1\" class=\"dataframe\">\n",
       "  <thead>\n",
       "    <tr style=\"text-align: right;\">\n",
       "      <th></th>\n",
       "      <th>STNAME</th>\n",
       "      <th>CTYNAME</th>\n",
       "      <th>CENSUS2010POP</th>\n",
       "      <th>largest_city_pop</th>\n",
       "    </tr>\n",
       "  </thead>\n",
       "  <tbody>\n",
       "    <tr>\n",
       "      <th>27</th>\n",
       "      <td>Nebraska</td>\n",
       "      <td>Douglas County</td>\n",
       "      <td>517110</td>\n",
       "      <td>517110</td>\n",
       "    </tr>\n",
       "    <tr>\n",
       "      <th>28</th>\n",
       "      <td>Nevada</td>\n",
       "      <td>Clark County</td>\n",
       "      <td>1951269</td>\n",
       "      <td>1951269</td>\n",
       "    </tr>\n",
       "    <tr>\n",
       "      <th>29</th>\n",
       "      <td>New Hampshire</td>\n",
       "      <td>Hillsborough County</td>\n",
       "      <td>400721</td>\n",
       "      <td>400721</td>\n",
       "    </tr>\n",
       "    <tr>\n",
       "      <th>30</th>\n",
       "      <td>New Jersey</td>\n",
       "      <td>Bergen County</td>\n",
       "      <td>905116</td>\n",
       "      <td>905116</td>\n",
       "    </tr>\n",
       "    <tr>\n",
       "      <th>31</th>\n",
       "      <td>New Mexico</td>\n",
       "      <td>Bernalillo County</td>\n",
       "      <td>662564</td>\n",
       "      <td>662564</td>\n",
       "    </tr>\n",
       "    <tr>\n",
       "      <th>32</th>\n",
       "      <td>New York</td>\n",
       "      <td>Kings County</td>\n",
       "      <td>2504700</td>\n",
       "      <td>2504700</td>\n",
       "    </tr>\n",
       "    <tr>\n",
       "      <th>33</th>\n",
       "      <td>North Carolina</td>\n",
       "      <td>Mecklenburg County</td>\n",
       "      <td>919628</td>\n",
       "      <td>919628</td>\n",
       "    </tr>\n",
       "    <tr>\n",
       "      <th>34</th>\n",
       "      <td>North Dakota</td>\n",
       "      <td>Cass County</td>\n",
       "      <td>149778</td>\n",
       "      <td>149778</td>\n",
       "    </tr>\n",
       "  </tbody>\n",
       "</table>\n",
       "</div>"
      ],
      "text/plain": [
       "            STNAME              CTYNAME  CENSUS2010POP  largest_city_pop\n",
       "27        Nebraska       Douglas County         517110            517110\n",
       "28          Nevada         Clark County        1951269           1951269\n",
       "29   New Hampshire  Hillsborough County         400721            400721\n",
       "30      New Jersey        Bergen County         905116            905116\n",
       "31      New Mexico    Bernalillo County         662564            662564\n",
       "32        New York         Kings County        2504700           2504700\n",
       "33  North Carolina   Mecklenburg County         919628            919628\n",
       "34    North Dakota          Cass County         149778            149778"
      ]
     },
     "execution_count": 12,
     "metadata": {},
     "output_type": "execute_result"
    }
   ],
   "source": [
    "# find the largest population city for states whose state names start with 'N'\n",
    "def question_nine():\n",
    "\n",
    "    return df_state_largest_city_pop[df_state_largest_city_pop['STNAME'].str.startswith('N')]\n",
    "    \n",
    "# do not change the code below  \n",
    "question_nine()"
   ]
  },
  {
   "cell_type": "markdown",
   "metadata": {},
   "source": [
    "**Expected output**\n",
    "\n",
    "<img src=\"images/p5_output9.png\" style=\"width: 500px;\">"
   ]
  },
  {
   "cell_type": "markdown",
   "metadata": {},
   "source": [
    "#### Question 10:  Groupby transform\n",
    "\n",
    "Use groupby object's `transform` function to transform the original dataframe `df`'s column `CENSUS2010POP` into z-score normalized values (formated as 2 decimal points).Rename the the column `CENSUS2010POP` into `norm_pop_on_state`.\n",
    "\n",
    "$$\n",
    "z=\\frac{x-\\mu}{\\sigma}\n",
    "$$\n",
    "\n",
    "Read more on z-normalization: https://www.statology.org/z-score-normalization/"
   ]
  },
  {
   "cell_type": "code",
   "execution_count": 13,
   "metadata": {},
   "outputs": [
    {
     "data": {
      "text/html": [
       "<div>\n",
       "<style scoped>\n",
       "    .dataframe tbody tr th:only-of-type {\n",
       "        vertical-align: middle;\n",
       "    }\n",
       "\n",
       "    .dataframe tbody tr th {\n",
       "        vertical-align: top;\n",
       "    }\n",
       "\n",
       "    .dataframe thead th {\n",
       "        text-align: right;\n",
       "    }\n",
       "</style>\n",
       "<table border=\"1\" class=\"dataframe\">\n",
       "  <thead>\n",
       "    <tr style=\"text-align: right;\">\n",
       "      <th></th>\n",
       "      <th>norm_pop_on_state</th>\n",
       "    </tr>\n",
       "  </thead>\n",
       "  <tbody>\n",
       "    <tr>\n",
       "      <th>1</th>\n",
       "      <td>-0.16</td>\n",
       "    </tr>\n",
       "    <tr>\n",
       "      <th>2</th>\n",
       "      <td>1.07</td>\n",
       "    </tr>\n",
       "    <tr>\n",
       "      <th>3</th>\n",
       "      <td>-0.42</td>\n",
       "    </tr>\n",
       "    <tr>\n",
       "      <th>4</th>\n",
       "      <td>-0.47</td>\n",
       "    </tr>\n",
       "    <tr>\n",
       "      <th>5</th>\n",
       "      <td>-0.14</td>\n",
       "    </tr>\n",
       "  </tbody>\n",
       "</table>\n",
       "</div>"
      ],
      "text/plain": [
       "   norm_pop_on_state\n",
       "1              -0.16\n",
       "2               1.07\n",
       "3              -0.42\n",
       "4              -0.47\n",
       "5              -0.14"
      ]
     },
     "execution_count": 13,
     "metadata": {},
     "output_type": "execute_result"
    }
   ],
   "source": [
    "def question_ten():\n",
    "\n",
    "    df_transform = df.groupby('STNAME')['CENSUS2010POP'].transform(\n",
    "        lambda x: ((x - x.mean()) / x.std()).round(2)).to_frame().rename(columns={'CENSUS2010POP':'norm_pop_on_state'})\n",
    "       \n",
    "    return (df_transform.head())\n",
    "    \n",
    "# do not change the code below  \n",
    "question_ten()"
   ]
  },
  {
   "cell_type": "markdown",
   "metadata": {},
   "source": [
    "**Expected output**\n",
    "\n",
    "||\tnorm_pop_on_state|\n",
    "|--|-----------------|\n",
    "|1|\t-0.16|\n",
    "|2|\t 1.07|\n",
    "|3|\t-0.42|\n",
    "|4|\t-0.47|\n",
    "|5|\t-0.14|"
   ]
  }
 ],
 "metadata": {
  "celltoolbar": "Raw Cell Format",
  "kernelspec": {
   "display_name": "Python 3 (ipykernel)",
   "language": "python",
   "name": "python3"
  },
  "language_info": {
   "codemirror_mode": {
    "name": "ipython",
    "version": 3
   },
   "file_extension": ".py",
   "mimetype": "text/x-python",
   "name": "python",
   "nbconvert_exporter": "python",
   "pygments_lexer": "ipython3",
   "version": "3.7.13"
  }
 },
 "nbformat": 4,
 "nbformat_minor": 1
}

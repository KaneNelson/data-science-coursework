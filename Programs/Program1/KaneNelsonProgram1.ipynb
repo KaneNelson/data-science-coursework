{
 "cells": [
  {
   "cell_type": "markdown",
   "metadata": {},
   "source": [
    "# CPSC380: Program 1 - Python\n",
    "\n",
    "In this programming assignment you will complete the following ten tasks with python. "
   ]
  },
  {
   "cell_type": "markdown",
   "metadata": {},
   "source": [
    "## 1. Python Basics (if/else, function, string)"
   ]
  },
  {
   "cell_type": "markdown",
   "metadata": {},
   "source": [
    "#### Question 1: \n",
    "Complete a function that accepts an input value (between 0.0 and 1.0), return a corresponding grade, based on the following.\n",
    "\n",
    "input_Score  Grade\n",
    "\n",
    "    >= 0.9    A\n",
    "    >= 0.8    B\n",
    "    >= 0.7    C\n",
    "    >= 0.6    D\n",
    "     < 0.6    F\n"
   ]
  },
  {
   "cell_type": "code",
   "execution_count": 1,
   "metadata": {},
   "outputs": [
    {
     "data": {
      "text/plain": [
       "'C'"
      ]
     },
     "execution_count": 1,
     "metadata": {},
     "output_type": "execute_result"
    }
   ],
   "source": [
    "def question_one(val):\n",
    "    \n",
    "    if(val < .6):\n",
    "        return 'F'\n",
    "    elif(val < .7):\n",
    "        return 'D'\n",
    "    elif(val < .8):\n",
    "        return 'C'\n",
    "    elif(val < .9):\n",
    "        return 'B'\n",
    "    else:\n",
    "        return 'A'\n",
    "\n",
    "\n",
    "# do not change the code below    \n",
    "question_one(0.75)"
   ]
  },
  {
   "cell_type": "markdown",
   "metadata": {},
   "source": [
    "**Expected Output**: \n",
    "<table>\n",
    "    <tr> \n",
    "        <td> 'C' </td> \n",
    "    </tr>\n",
    "</table> "
   ]
  },
  {
   "cell_type": "markdown",
   "metadata": {},
   "source": [
    "#### Question 2\n",
    "\n",
    "Given an input string, return the **reverse words** (as a string).\n",
    "\n",
    "Examples:\n",
    "\n",
    " - Input : \"this is question 2\"\n",
    " - Output : \"2 question is this\"\n",
    "\n",
    "Hint:\n",
    " - you may use `split()` to get a list of words\n",
    " - read them reversely\n",
    " - concatenate them with `join()` method"
   ]
  },
  {
   "cell_type": "code",
   "execution_count": 2,
   "metadata": {},
   "outputs": [
    {
     "data": {
      "text/plain": [
       "['2', 'question', 'is', '\"this']"
      ]
     },
     "execution_count": 2,
     "metadata": {},
     "output_type": "execute_result"
    }
   ],
   "source": [
    "def question_two(input):\n",
    "    \n",
    "    return input.split(' ')[::-1]\n",
    "\n",
    "# do not change the code below\n",
    "question_two('\"this is question 2')"
   ]
  },
  {
   "cell_type": "markdown",
   "metadata": {},
   "source": [
    "#### Question 3\n",
    "\n",
    "Given an input string and integer value of `i`, remove the `ith` chracter from the string, return a resulting string.\n",
    "\n",
    "Examples:\n",
    "\n",
    " - Input : \"Python\"\n",
    " - i:       4\n",
    " - Output : \"Pythn\" "
   ]
  },
  {
   "cell_type": "code",
   "execution_count": 3,
   "metadata": {},
   "outputs": [
    {
     "data": {
      "text/plain": [
       "'Pythn'"
      ]
     },
     "execution_count": 3,
     "metadata": {},
     "output_type": "execute_result"
    }
   ],
   "source": [
    "def question_three(input, i):\n",
    "    \n",
    "    return input[0:i] + input[i+1:len(input)]\n",
    "\n",
    "# do not change the code below\n",
    "\n",
    "question_three(\"Python\", 4)"
   ]
  },
  {
   "cell_type": "markdown",
   "metadata": {},
   "source": [
    "## 2. Python Data Structures"
   ]
  },
  {
   "cell_type": "markdown",
   "metadata": {},
   "source": [
    "#### Question 4\n",
    "Open the file `romeo.txt` and read it line by line. For each line, split the line into a\n",
    "list of words using the `split()` method. The program should build a list of words.\n",
    "For each word on each line check to see if the word is already in the list and if not\n",
    "append it to the list. When the program completes, sort and return the following three items: length of word list, the first word, and the last word."
   ]
  },
  {
   "cell_type": "code",
   "execution_count": 4,
   "metadata": {},
   "outputs": [
    {
     "name": "stdout",
     "output_type": "stream",
     "text": [
      "26, Arise, yonder\n"
     ]
    }
   ],
   "source": [
    "def question_four():\n",
    "    \n",
    "    with open('romeo.txt') as f:\n",
    "        list = []\n",
    "        lines = f.readlines()\n",
    "    for line in lines:\n",
    "        line = line[:-1].split(' ')\n",
    "        for word in line:\n",
    "            if word not in list:\n",
    "                list.append(word)\n",
    "    list.sort()           \n",
    "    print(f'{len(list)}, {list[0]}, {list[-1]}')\n",
    "    return\n",
    "\n",
    "# do not change the code below\n",
    "question_four()"
   ]
  },
  {
   "cell_type": "markdown",
   "metadata": {},
   "source": [
    "**Expected Output**: \n",
    "<table >\n",
    "    <tr> \n",
    "        <td> (26, 'Arise', 'yonder') </td> \n",
    "    </tr>\n",
    "</table> "
   ]
  },
  {
   "cell_type": "markdown",
   "metadata": {},
   "source": [
    "#### Question 5\n",
    "\n",
    "Read through the `mbox-short.txt`, find all the lines starting with the word `From`. Take the second word of those lines as the person who sent the mail, store these email addresses into a list. Count the frequency of these email addresses. Return: 1) the most frequent sender (email address) and 2) the corresponding number of time the sender sent."
   ]
  },
  {
   "cell_type": "code",
   "execution_count": 5,
   "metadata": {},
   "outputs": [
    {
     "data": {
      "text/plain": [
       "[('cwen@iupui.edu', 5)]"
      ]
     },
     "execution_count": 5,
     "metadata": {},
     "output_type": "execute_result"
    }
   ],
   "source": [
    "from collections import Counter\n",
    "\n",
    "def question_five():\n",
    "    emails = []\n",
    "    with open('mbox-short.txt') as f:\n",
    "        for line in f:\n",
    "            line = line.split(' ')\n",
    "            if line[0] == 'From':\n",
    "                emails.append(line[1])\n",
    "    return Counter(emails).most_common(1)\n",
    "\n",
    "# do not change the code below\n",
    "question_five()"
   ]
  },
  {
   "cell_type": "markdown",
   "metadata": {},
   "source": [
    "**Expected Output**: \n",
    "<table >\n",
    "    <tr> \n",
    "        <td>('cwen@iupui.edu', 5)</td> \n",
    "    </tr>\n",
    "</table> "
   ]
  },
  {
   "cell_type": "markdown",
   "metadata": {},
   "source": [
    "#### Question 6\n",
    "\n",
    "Given two common input lists, check whether two lists contain at least one common element. Return true if yes, false otherwise.\n"
   ]
  },
  {
   "cell_type": "code",
   "execution_count": 9,
   "metadata": {},
   "outputs": [
    {
     "data": {
      "text/plain": [
       "True"
      ]
     },
     "execution_count": 9,
     "metadata": {},
     "output_type": "execute_result"
    }
   ],
   "source": [
    "def question_six(list1, list2):\n",
    "    \n",
    "    for i in list1:\n",
    "        if i in list2:\n",
    "            return True\n",
    "\n",
    "    return False\n",
    "\n",
    "# do not change the code below  \n",
    "list1 = [1, 2, 3, 4, 5]\n",
    "list2 = [5, 6, 7, 8, 9]\n",
    "question_six(list1, list2)"
   ]
  },
  {
   "cell_type": "markdown",
   "metadata": {},
   "source": [
    "## 3. Python class"
   ]
  },
  {
   "cell_type": "markdown",
   "metadata": {},
   "source": [
    "#### Question 7\n",
    "1. Create a class Rectangle. This class has:\n",
    " - attributes __length and __width, each of which defaults to 1.\n",
    " - methods that calculate the perimeter and area of the rectangle. \n",
    " - It has set and get methods both __length and __width.\n",
    "\n",
    "2. Write a drive program to test the class.\n",
    " - create a rectangle object\n",
    " - set length of 4, and width of 3\n",
    " - print out the length, width, perimeter, and area"
   ]
  },
  {
   "cell_type": "code",
   "execution_count": 21,
   "metadata": {},
   "outputs": [
    {
     "name": "stdout",
     "output_type": "stream",
     "text": [
      "The length is 4\n",
      "The width is 3\n",
      "The perimeter is 14\n",
      "The area is 12\n"
     ]
    }
   ],
   "source": [
    "class Rectangle:\n",
    "    def __init__(self, length = 1, width = 1):\n",
    "        self.__length = length\n",
    "        self.__width = width\n",
    "    # Setters\n",
    "    def setLength(self, length):\n",
    "        self.__length = length\n",
    "    \n",
    "    def setWidth(self, width):\n",
    "        self.__width = width\n",
    "\n",
    "    # Getters\n",
    "    def getLength(self):\n",
    "        return self.__length\n",
    "    \n",
    "    def getWidth(self):\n",
    "        return self.__width\n",
    "    \n",
    "    def calculatePerimeter(self):\n",
    "        return (2 * self.__length) + (2 * self.__width)\n",
    "    \n",
    "    def calculateArea(self):\n",
    "        return self.__length * self.__width\n",
    "\n",
    "def question_seven():\n",
    "    \n",
    "    r = Rectangle()\n",
    "    \n",
    "    # set the length of 4 and width of 3\n",
    "    r.setLength(4)\n",
    "    r.setWidth(3)\n",
    "\n",
    "    # print out the length, width, perimeter, and area\n",
    "    print(f'The length is {r.getLength()}')\n",
    "    print(f'The width is {r.getWidth()}')\n",
    "    print(f'The perimeter is {r.calculatePerimeter()}')\n",
    "    print(f'The area is {r.calculateArea()}')\n",
    "\n",
    "question_seven()"
   ]
  },
  {
   "cell_type": "markdown",
   "metadata": {},
   "source": [
    "**Expected Output**: \n",
    "<table >\n",
    "    <tr> \n",
    "        <td>The length is 4</td> \n",
    "    </tr>\n",
    "    <tr> \n",
    "        <td>The width is 3</td> \n",
    "    </tr>\n",
    "    <tr> \n",
    "        <td>The perimeter is 14</td> \n",
    "    </tr>\n",
    "    <tr> \n",
    "        <td>The area is 12</td> \n",
    "    </tr>\n",
    "</table> "
   ]
  },
  {
   "cell_type": "markdown",
   "metadata": {},
   "source": [
    "## 4. Python non-basics"
   ]
  },
  {
   "cell_type": "markdown",
   "metadata": {},
   "source": [
    "#### Question 8\n",
    "Given a string `s` and an integer array indices of the same length. The string `s` will be shuffled such that the character at the `ith` position moves to indices[i] in the shuffled string. Return the shuffled string.\n",
    "\n",
    "Examples:\n",
    "\n",
    " - s = `codeleet`\n",
    " - indices = [4,5,6,7,0,2,1,3]\n",
    " - Explanation: {c:4, o:5,d:6,e:7,l:0,e:2,e:1,t:3}. We will move `l` to index 0, `e` to index 1, `e` to index 2, `t` to index 3,...\n",
    " - Output : `leetcode` "
   ]
  },
  {
   "cell_type": "code",
   "execution_count": 5,
   "metadata": {},
   "outputs": [
    {
     "data": {
      "text/plain": [
       "'leetcdoe'"
      ]
     },
     "execution_count": 5,
     "metadata": {},
     "output_type": "execute_result"
    }
   ],
   "source": [
    "def question_eight(s, indices):\n",
    "        \n",
    "    output = \"\"\n",
    "    for i in indices:\n",
    "        output += s[i]\n",
    "\n",
    "    return output\n",
    "\n",
    "# do not change the code below\n",
    "\n",
    "s = \"codeleet\"\n",
    "indices = [4,5,6,7,0,2,1,3]\n",
    "\n",
    "question_eight(s, indices)"
   ]
  },
  {
   "cell_type": "markdown",
   "metadata": {},
   "source": [
    "\n",
    "#### Question 9\n",
    "\n",
    "Given a string paragraph and a string array of the banned words banned, return the most frequent word that is not banned. It is guaranteed there is at least one word that is not banned, and that the answer is unique.\n",
    "\n",
    "The words in paragraph are case-insensitive and the answer should be returned in lowercase.\n",
    "\n",
    "Example:\n",
    " - Input: \n",
    "  - paragraph = \"Bob hit a ball, the hit BALL flew far after it was hit.\"\n",
    "  - banned = [\"hit\"]\n",
    " - Output: \"ball\"\n",
    "\n",
    "Explanation: \n",
    " - \"hit\" occurs 3 times, but it is a banned word.\n",
    " - \"ball\" occurs twice (and no other word does), so it is the most frequent non-banned word in the paragraph. \n",
    " - Note that words in the paragraph are not case sensitive, that punctuation is ignored."
   ]
  },
  {
   "cell_type": "code",
   "execution_count": 6,
   "metadata": {},
   "outputs": [
    {
     "data": {
      "text/plain": [
       "'ball'"
      ]
     },
     "execution_count": 6,
     "metadata": {},
     "output_type": "execute_result"
    }
   ],
   "source": [
    "import re, collections\n",
    "\n",
    "def question_nine(paragraph, banned):\n",
    "    paragraph = paragraph.lower()    \n",
    "    # will remove ' ', or one of the symbols: \"!?',;.\" (delimiters).\n",
    "    regex = r'\\w+'\n",
    "    words=re.findall(regex,paragraph)\n",
    "\n",
    "    for i in words[:]:\n",
    "        if i in banned:\n",
    "            words.remove(i)\n",
    "            \n",
    "    c = Counter(words)\n",
    "    output = c.most_common(1)[0]\n",
    "\n",
    "    return output[0]\n",
    "\n",
    "# do not change the code below\n",
    "paragraph = \"Bob hit a ball, the hit BALL flew far after it was hit.\"\n",
    "banned = [\"hit\"]\n",
    "question_nine(paragraph, banned)"
   ]
  },
  {
   "cell_type": "markdown",
   "metadata": {},
   "source": [
    "#### Question 10\n",
    "\n",
    "Given :\n",
    " - an array of points where $points[i] = [x_{i}, y_{i}]$ represents a point on the X-Y plane and \n",
    " - an integer $k$\n",
    " \n",
    "Return the $k$ closest points to the origin (0, 0).\n",
    "\n",
    "\n",
    "**Note**: The distance between two points on the X-Y plane is the Euclidean distance (i.e., $\\sqrt{(x_{1} - x_{2})^2 + (y_{1} - y_{2})^2}$).\n",
    "\n",
    "\n",
    "For example:\n",
    "\n",
    " - dist([3,3], [0,0])= $\\sqrt{3^2+3^2}=\\sqrt{18}$\n",
    " - dist([5,-1], [0,0])= $\\sqrt{5^2+(-1)^2}=\\sqrt{26}$\n",
    " \n",
    "So, [3,3] is closer point to the origin (0,0)."
   ]
  },
  {
   "cell_type": "code",
   "execution_count": 18,
   "metadata": {},
   "outputs": [
    {
     "name": "stdout",
     "output_type": "stream",
     "text": [
      "[[4.242640687119285, [3, 3]], [4.47213595499958, [-2, 4]], [5.0990195135927845, [5, -1]], [5.656854249492381, [4, 4]], [7.0710678118654755, [5, 5]], [7.810249675906654, [5, 6]], [9.055385138137417, [-1, 9]], [10.0, [0, 10]]]\n"
     ]
    },
    {
     "data": {
      "text/plain": [
       "[[3, 3], [-2, 4]]"
      ]
     },
     "execution_count": 18,
     "metadata": {},
     "output_type": "execute_result"
    }
   ],
   "source": [
    "import math\n",
    "def question_ten(points, k):\n",
    "    output = []\n",
    "    new = [[math.sqrt(x[0]*x[0]+x[1]*x[1]), x] for x in points]\n",
    "    new = sorted(new)\n",
    "    print(new)\n",
    "    for i in range(k):\n",
    "        output.append(new[i][1])\n",
    "    return output\n",
    "\n",
    "# do not change the code below\n",
    "points=[[3,3],[5,-1],[-2,4], [0, 10], [5, 6], [4, 4], [5,5], [-1,9]]\n",
    "question_ten(points, 2)"
   ]
  },
  {
   "cell_type": "markdown",
   "metadata": {},
   "source": [
    "**Expected Output**: \n",
    "<table >\n",
    "    <tr> \n",
    "        <td>[[3, 3], [-2, 4]]</td> \n",
    "    </tr>\n",
    "</table> "
   ]
  },
  {
   "cell_type": "code",
   "execution_count": null,
   "metadata": {},
   "outputs": [],
   "source": []
  },
  {
   "cell_type": "code",
   "execution_count": null,
   "metadata": {},
   "outputs": [],
   "source": []
  },
  {
   "cell_type": "code",
   "execution_count": null,
   "metadata": {},
   "outputs": [],
   "source": []
  }
 ],
 "metadata": {
  "coursera": {
   "course_slug": "python-text-mining",
   "graded_item_id": "r35En",
   "launcher_item_id": "tCVfW",
   "part_id": "NTVgL"
  },
  "kernelspec": {
   "display_name": "Python 3 (ipykernel)",
   "language": "python",
   "name": "python3"
  },
  "language_info": {
   "codemirror_mode": {
    "name": "ipython",
    "version": 3
   },
   "file_extension": ".py",
   "mimetype": "text/x-python",
   "name": "python",
   "nbconvert_exporter": "python",
   "pygments_lexer": "ipython3",
   "version": "3.7.13"
  }
 },
 "nbformat": 4,
 "nbformat_minor": 2
}

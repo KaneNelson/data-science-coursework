{
 "cells": [
  {
   "cell_type": "markdown",
   "metadata": {},
   "source": [
    "# Program 4 - Pandas Basics\n",
    "\n",
    "## Part 1 (Questions 1-4)\n",
    "\n",
    "The following code loads the olympics dataset (olympics.csv), which was derrived from the Wikipedia entry on [All Time Olympic Games Medals](https://en.wikipedia.org/wiki/All-time_Olympic_Games_medal_table), and does some basic data cleaning. "
   ]
  },
  {
   "cell_type": "code",
   "execution_count": 2,
   "metadata": {
    "nbgrader": {
     "grade": false,
     "grade_id": "1",
     "locked": false,
     "solution": false
    },
    "scrolled": true,
    "umich_question": "prolog-000"
   },
   "outputs": [
    {
     "name": "stdout",
     "output_type": "stream",
     "text": [
      "Index(['ID', 'S_Games', 'S_Gold', 'S_Silver', 'S_Bronze', 'S_Total', 'W_Games',\n",
      "       'W_Gold', 'W_Silver', 'W_Bronze', 'W_Total', 'Total_Games',\n",
      "       'Total_Gold', 'Total_Silver', 'Total_Bronze', 'Combined_Total'],\n",
      "      dtype='object')\n"
     ]
    },
    {
     "data": {
      "text/html": [
       "<div>\n",
       "<style scoped>\n",
       "    .dataframe tbody tr th:only-of-type {\n",
       "        vertical-align: middle;\n",
       "    }\n",
       "\n",
       "    .dataframe tbody tr th {\n",
       "        vertical-align: top;\n",
       "    }\n",
       "\n",
       "    .dataframe thead th {\n",
       "        text-align: right;\n",
       "    }\n",
       "</style>\n",
       "<table border=\"1\" class=\"dataframe\">\n",
       "  <thead>\n",
       "    <tr style=\"text-align: right;\">\n",
       "      <th></th>\n",
       "      <th>ID</th>\n",
       "      <th>S_Games</th>\n",
       "      <th>S_Gold</th>\n",
       "      <th>S_Silver</th>\n",
       "      <th>S_Bronze</th>\n",
       "      <th>S_Total</th>\n",
       "      <th>W_Games</th>\n",
       "      <th>W_Gold</th>\n",
       "      <th>W_Silver</th>\n",
       "      <th>W_Bronze</th>\n",
       "      <th>W_Total</th>\n",
       "      <th>Total_Games</th>\n",
       "      <th>Total_Gold</th>\n",
       "      <th>Total_Silver</th>\n",
       "      <th>Total_Bronze</th>\n",
       "      <th>Combined_Total</th>\n",
       "    </tr>\n",
       "  </thead>\n",
       "  <tbody>\n",
       "    <tr>\n",
       "      <th>Afghanistan</th>\n",
       "      <td>AFG</td>\n",
       "      <td>13</td>\n",
       "      <td>0</td>\n",
       "      <td>0</td>\n",
       "      <td>2</td>\n",
       "      <td>2</td>\n",
       "      <td>0</td>\n",
       "      <td>0</td>\n",
       "      <td>0</td>\n",
       "      <td>0</td>\n",
       "      <td>0</td>\n",
       "      <td>13</td>\n",
       "      <td>0</td>\n",
       "      <td>0</td>\n",
       "      <td>2</td>\n",
       "      <td>2</td>\n",
       "    </tr>\n",
       "    <tr>\n",
       "      <th>Algeria</th>\n",
       "      <td>ALG</td>\n",
       "      <td>12</td>\n",
       "      <td>5</td>\n",
       "      <td>2</td>\n",
       "      <td>8</td>\n",
       "      <td>15</td>\n",
       "      <td>3</td>\n",
       "      <td>0</td>\n",
       "      <td>0</td>\n",
       "      <td>0</td>\n",
       "      <td>0</td>\n",
       "      <td>15</td>\n",
       "      <td>5</td>\n",
       "      <td>2</td>\n",
       "      <td>8</td>\n",
       "      <td>15</td>\n",
       "    </tr>\n",
       "    <tr>\n",
       "      <th>Argentina</th>\n",
       "      <td>ARG</td>\n",
       "      <td>23</td>\n",
       "      <td>18</td>\n",
       "      <td>24</td>\n",
       "      <td>28</td>\n",
       "      <td>70</td>\n",
       "      <td>18</td>\n",
       "      <td>0</td>\n",
       "      <td>0</td>\n",
       "      <td>0</td>\n",
       "      <td>0</td>\n",
       "      <td>41</td>\n",
       "      <td>18</td>\n",
       "      <td>24</td>\n",
       "      <td>28</td>\n",
       "      <td>70</td>\n",
       "    </tr>\n",
       "    <tr>\n",
       "      <th>Armenia</th>\n",
       "      <td>ARM</td>\n",
       "      <td>5</td>\n",
       "      <td>1</td>\n",
       "      <td>2</td>\n",
       "      <td>9</td>\n",
       "      <td>12</td>\n",
       "      <td>6</td>\n",
       "      <td>0</td>\n",
       "      <td>0</td>\n",
       "      <td>0</td>\n",
       "      <td>0</td>\n",
       "      <td>11</td>\n",
       "      <td>1</td>\n",
       "      <td>2</td>\n",
       "      <td>9</td>\n",
       "      <td>12</td>\n",
       "    </tr>\n",
       "    <tr>\n",
       "      <th>Australasia</th>\n",
       "      <td>ANZ</td>\n",
       "      <td>2</td>\n",
       "      <td>3</td>\n",
       "      <td>4</td>\n",
       "      <td>5</td>\n",
       "      <td>12</td>\n",
       "      <td>0</td>\n",
       "      <td>0</td>\n",
       "      <td>0</td>\n",
       "      <td>0</td>\n",
       "      <td>0</td>\n",
       "      <td>2</td>\n",
       "      <td>3</td>\n",
       "      <td>4</td>\n",
       "      <td>5</td>\n",
       "      <td>12</td>\n",
       "    </tr>\n",
       "  </tbody>\n",
       "</table>\n",
       "</div>"
      ],
      "text/plain": [
       "              ID  S_Games  S_Gold  S_Silver  S_Bronze  S_Total  W_Games  \\\n",
       "Afghanistan  AFG       13       0         0         2        2        0   \n",
       "Algeria      ALG       12       5         2         8       15        3   \n",
       "Argentina    ARG       23      18        24        28       70       18   \n",
       "Armenia      ARM        5       1         2         9       12        6   \n",
       "Australasia  ANZ        2       3         4         5       12        0   \n",
       "\n",
       "             W_Gold  W_Silver  W_Bronze  W_Total  Total_Games  Total_Gold  \\\n",
       "Afghanistan       0         0         0        0           13           0   \n",
       "Algeria           0         0         0        0           15           5   \n",
       "Argentina         0         0         0        0           41          18   \n",
       "Armenia           0         0         0        0           11           1   \n",
       "Australasia       0         0         0        0            2           3   \n",
       "\n",
       "             Total_Silver  Total_Bronze  Combined_Total  \n",
       "Afghanistan             0             2               2  \n",
       "Algeria                 2             8              15  \n",
       "Argentina              24            28              70  \n",
       "Armenia                 2             9              12  \n",
       "Australasia             4             5              12  "
      ]
     },
     "execution_count": 2,
     "metadata": {},
     "output_type": "execute_result"
    }
   ],
   "source": [
    "import pandas as pd\n",
    "import numpy as np\n",
    "\n",
    "df = pd.read_csv('olympics.csv', index_col=0, skiprows=1)\n",
    "\n",
    "# The first column is split into country with ID\n",
    "names_ids = df.index.str.split('\\s\\(') # split the index by '('\n",
    "df.index = names_ids.str[0] # the [0] element is the country name (new index) \n",
    "df['ID'] = names_ids.str[1].str[:3] # the [1] element is the abbreviation or ID (take first 3 characters from that)\n",
    "\n",
    "# rearrange column order\n",
    "cols = df.columns.tolist()\n",
    "cols = cols[-1:] + cols[:-1]\n",
    "df = df[cols]  \n",
    "\n",
    "print (df.columns)\n",
    "df.head()"
   ]
  },
  {
   "cell_type": "markdown",
   "metadata": {},
   "source": [
    "After data cleaning process, the dataframe has coutryname as index, and has 16 columns. \n",
    "\n",
    "The columns are organized as :\n",
    " - Column 1: 'ID': country code \n",
    " - Column 2-6: Summer game\n",
    "   - 'S_Games': the `#` of Summer games participated \n",
    "   - 'S_Gold', 'S_Silver', 'S_Bronze', 'S_Total': the `#` of medals gold, silver, bronze, and total obtained in summer games\n",
    " - Column 7-11: Winter game\n",
    "   - 'W_Games': the `#` of Winter games participated \n",
    "   - 'W_Gold', 'W_Silver', 'W_Bronze', 'W_Total': the `#` of medals gold, silver, bronze, and total obtained in winter games\n",
    " - Column 12-16: combined games  \n",
    "   - 'Total_Games': the `#` of total games participated \n",
    "   - 'Total_Gold', 'Total_Silver', 'Total_Bronze', 'Combined_Total': the `#` of medals gold, silver, bronze, and total obtained in (summer + winter) games"
   ]
  },
  {
   "cell_type": "markdown",
   "metadata": {},
   "source": [
    "#### Question 1\n",
    "\n",
    "return the row with index of `United States` from dataframe `df`."
   ]
  },
  {
   "cell_type": "code",
   "execution_count": 22,
   "metadata": {
    "scrolled": true,
    "umich_question": "000"
   },
   "outputs": [
    {
     "data": {
      "text/plain": [
       "ID                 USA\n",
       "S_Games             26\n",
       "S_Gold             976\n",
       "S_Silver           757\n",
       "S_Bronze           666\n",
       "S_Total           2399\n",
       "W_Games             22\n",
       "W_Gold              96\n",
       "W_Silver           102\n",
       "W_Bronze            84\n",
       "W_Total            282\n",
       "Total_Games         48\n",
       "Total_Gold        1072\n",
       "Total_Silver       859\n",
       "Total_Bronze       750\n",
       "Combined_Total    2681\n",
       "Name: United States, dtype: object"
      ]
     },
     "execution_count": 22,
     "metadata": {},
     "output_type": "execute_result"
    }
   ],
   "source": [
    "def question_one():\n",
    "\n",
    "    return df.loc['United States']\n",
    "    \n",
    "# do not change the code below  \n",
    "question_one()"
   ]
  },
  {
   "cell_type": "markdown",
   "metadata": {},
   "source": [
    "**Expected Output**: "
   ]
  },
  {
   "cell_type": "raw",
   "metadata": {},
   "source": [
    "                                ID                 USA\n",
    "                                S_Games             26\n",
    "                                S_Gold             976\n",
    "                                S_Silver           757\n",
    "                                S_Bronze           666\n",
    "                                S_Total           2399\n",
    "                                W_Games             22\n",
    "                                W_Gold              96\n",
    "                                W_Silver           102\n",
    "                                W_Bronze            84\n",
    "                                W_Total            282\n",
    "                                Total_Games         48\n",
    "                                Total_Gold        1072\n",
    "                                Total_Silver       859\n",
    "                                Total_Bronze       750\n",
    "                                Combined_Total    2681\n",
    "                                Name: United States, dtype: object"
   ]
  },
  {
   "cell_type": "markdown",
   "metadata": {},
   "source": [
    "#### Question 2\n",
    "Which country has won the most gold medals in summer games (Hint: Use column `S_Gold`)?"
   ]
  },
  {
   "cell_type": "code",
   "execution_count": 63,
   "metadata": {
    "nbgrader": {
     "grade": false,
     "locked": false,
     "solution": false
    },
    "scrolled": false,
    "umich_part_id": "001",
    "umich_partlist_id": "001"
   },
   "outputs": [
    {
     "data": {
      "text/plain": [
       "'United States'"
      ]
     },
     "execution_count": 63,
     "metadata": {},
     "output_type": "execute_result"
    }
   ],
   "source": [
    "def question_two():\n",
    "\n",
    "    return df['S_Gold'].idxmax()\n",
    "    \n",
    "# do not change the code below  \n",
    "question_two()"
   ]
  },
  {
   "cell_type": "markdown",
   "metadata": {},
   "source": [
    "**Expected Output**: \n",
    "<table >\n",
    "    <tr> \n",
    "        <td> 'United States'</td> \n",
    "    </tr>\n",
    "</table> "
   ]
  },
  {
   "cell_type": "markdown",
   "metadata": {},
   "source": [
    "#### Question 3\n",
    "Which country had the biggest difference between their summer and winter gold medal counts?"
   ]
  },
  {
   "cell_type": "code",
   "execution_count": 96,
   "metadata": {
    "scrolled": true,
    "umich_part_id": "002",
    "umich_partlist_id": "001"
   },
   "outputs": [
    {
     "data": {
      "text/plain": [
       "'United States'"
      ]
     },
     "execution_count": 96,
     "metadata": {},
     "output_type": "execute_result"
    }
   ],
   "source": [
    "def question_three():\n",
    "\n",
    "    return (abs(df['S_Gold'] - df['W_Gold'])).idxmax()\n",
    "\n",
    "# do not change the code below  \n",
    "question_three()"
   ]
  },
  {
   "cell_type": "markdown",
   "metadata": {},
   "source": [
    "**Expected Output**: \n",
    "<table >\n",
    "    <tr> \n",
    "        <td> 'United States'</td> \n",
    "    </tr>\n",
    "</table> "
   ]
  },
  {
   "cell_type": "markdown",
   "metadata": {},
   "source": [
    "#### Question 4\n",
    "Creates a Series called \"Total_Points\" which is a weighted value where each gold medal (`Total_Gold`) counts for 3 points, silver medals (`Total_Silver`) for 2 points, and bronze medals (`Total_Bronze`) for 1 point."
   ]
  },
  {
   "cell_type": "code",
   "execution_count": 73,
   "metadata": {
    "umich_part_id": "004",
    "umich_partlist_id": "001"
   },
   "outputs": [
    {
     "data": {
      "text/plain": [
       "France           1500\n",
       "Germany          1546\n",
       "Great Britain    1574\n",
       "Soviet Union     2526\n",
       "United States    5684\n",
       "Name: Total_Points, dtype: int64"
      ]
     },
     "execution_count": 73,
     "metadata": {},
     "output_type": "execute_result"
    }
   ],
   "source": [
    "def question_four():\n",
    "   \n",
    "    df['Total_Points'] = df['Total_Gold']*3 + df['Total_Silver']*2 + df['Total_Bronze']\n",
    "\n",
    "    return df['Total_Points'].sort_values().tail()\n",
    "    \n",
    "# do not change the code below  \n",
    "question_four()"
   ]
  },
  {
   "cell_type": "markdown",
   "metadata": {},
   "source": [
    "**Expected Output:**"
   ]
  },
  {
   "cell_type": "raw",
   "metadata": {},
   "source": [
    "                                France           1500\n",
    "                                Germany          1546\n",
    "                                Great Britain    1574\n",
    "                                Soviet Union     2526\n",
    "                                United States    5684\n",
    "                                Name: Total_Points, dtype: int64"
   ]
  },
  {
   "cell_type": "markdown",
   "metadata": {},
   "source": [
    "## Part 2 (Questions 5-12)\n",
    "We will be using census data from the [United States Census Bureau](http://www.census.gov). Counties are political and geographic subdivisions of states in the United States. This dataset contains population data for counties and states in the US from 2010 to 2015. [See this document](https://www2.census.gov/programs-surveys/popest/technical-documentation/file-layouts/2010-2015/co-est2015-alldata.pdf) for a description of the variable names."
   ]
  },
  {
   "cell_type": "code",
   "execution_count": 3,
   "metadata": {
    "scrolled": true,
    "umich_question": "prolog-005"
   },
   "outputs": [
    {
     "data": {
      "text/html": [
       "<div>\n",
       "<style scoped>\n",
       "    .dataframe tbody tr th:only-of-type {\n",
       "        vertical-align: middle;\n",
       "    }\n",
       "\n",
       "    .dataframe tbody tr th {\n",
       "        vertical-align: top;\n",
       "    }\n",
       "\n",
       "    .dataframe thead th {\n",
       "        text-align: right;\n",
       "    }\n",
       "</style>\n",
       "<table border=\"1\" class=\"dataframe\">\n",
       "  <thead>\n",
       "    <tr style=\"text-align: right;\">\n",
       "      <th></th>\n",
       "      <th>SUMLEV</th>\n",
       "      <th>REGION</th>\n",
       "      <th>DIVISION</th>\n",
       "      <th>STATE</th>\n",
       "      <th>COUNTY</th>\n",
       "      <th>STNAME</th>\n",
       "      <th>CTYNAME</th>\n",
       "      <th>CENSUS2010POP</th>\n",
       "      <th>ESTIMATESBASE2010</th>\n",
       "      <th>POPESTIMATE2010</th>\n",
       "      <th>...</th>\n",
       "      <th>RDOMESTICMIG2011</th>\n",
       "      <th>RDOMESTICMIG2012</th>\n",
       "      <th>RDOMESTICMIG2013</th>\n",
       "      <th>RDOMESTICMIG2014</th>\n",
       "      <th>RDOMESTICMIG2015</th>\n",
       "      <th>RNETMIG2011</th>\n",
       "      <th>RNETMIG2012</th>\n",
       "      <th>RNETMIG2013</th>\n",
       "      <th>RNETMIG2014</th>\n",
       "      <th>RNETMIG2015</th>\n",
       "    </tr>\n",
       "  </thead>\n",
       "  <tbody>\n",
       "    <tr>\n",
       "      <th>0</th>\n",
       "      <td>40</td>\n",
       "      <td>3</td>\n",
       "      <td>6</td>\n",
       "      <td>1</td>\n",
       "      <td>0</td>\n",
       "      <td>Alabama</td>\n",
       "      <td>Alabama</td>\n",
       "      <td>4779736</td>\n",
       "      <td>4780127</td>\n",
       "      <td>4785161</td>\n",
       "      <td>...</td>\n",
       "      <td>0.002295</td>\n",
       "      <td>-0.193196</td>\n",
       "      <td>0.381066</td>\n",
       "      <td>0.582002</td>\n",
       "      <td>-0.467369</td>\n",
       "      <td>1.030015</td>\n",
       "      <td>0.826644</td>\n",
       "      <td>1.383282</td>\n",
       "      <td>1.724718</td>\n",
       "      <td>0.712594</td>\n",
       "    </tr>\n",
       "    <tr>\n",
       "      <th>1</th>\n",
       "      <td>50</td>\n",
       "      <td>3</td>\n",
       "      <td>6</td>\n",
       "      <td>1</td>\n",
       "      <td>1</td>\n",
       "      <td>Alabama</td>\n",
       "      <td>Autauga County</td>\n",
       "      <td>54571</td>\n",
       "      <td>54571</td>\n",
       "      <td>54660</td>\n",
       "      <td>...</td>\n",
       "      <td>7.242091</td>\n",
       "      <td>-2.915927</td>\n",
       "      <td>-3.012349</td>\n",
       "      <td>2.265971</td>\n",
       "      <td>-2.530799</td>\n",
       "      <td>7.606016</td>\n",
       "      <td>-2.626146</td>\n",
       "      <td>-2.722002</td>\n",
       "      <td>2.592270</td>\n",
       "      <td>-2.187333</td>\n",
       "    </tr>\n",
       "    <tr>\n",
       "      <th>2</th>\n",
       "      <td>50</td>\n",
       "      <td>3</td>\n",
       "      <td>6</td>\n",
       "      <td>1</td>\n",
       "      <td>3</td>\n",
       "      <td>Alabama</td>\n",
       "      <td>Baldwin County</td>\n",
       "      <td>182265</td>\n",
       "      <td>182265</td>\n",
       "      <td>183193</td>\n",
       "      <td>...</td>\n",
       "      <td>14.832960</td>\n",
       "      <td>17.647293</td>\n",
       "      <td>21.845705</td>\n",
       "      <td>19.243287</td>\n",
       "      <td>17.197872</td>\n",
       "      <td>15.844176</td>\n",
       "      <td>18.559627</td>\n",
       "      <td>22.727626</td>\n",
       "      <td>20.317142</td>\n",
       "      <td>18.293499</td>\n",
       "    </tr>\n",
       "    <tr>\n",
       "      <th>3</th>\n",
       "      <td>50</td>\n",
       "      <td>3</td>\n",
       "      <td>6</td>\n",
       "      <td>1</td>\n",
       "      <td>5</td>\n",
       "      <td>Alabama</td>\n",
       "      <td>Barbour County</td>\n",
       "      <td>27457</td>\n",
       "      <td>27457</td>\n",
       "      <td>27341</td>\n",
       "      <td>...</td>\n",
       "      <td>-4.728132</td>\n",
       "      <td>-2.500690</td>\n",
       "      <td>-7.056824</td>\n",
       "      <td>-3.904217</td>\n",
       "      <td>-10.543299</td>\n",
       "      <td>-4.874741</td>\n",
       "      <td>-2.758113</td>\n",
       "      <td>-7.167664</td>\n",
       "      <td>-3.978583</td>\n",
       "      <td>-10.543299</td>\n",
       "    </tr>\n",
       "    <tr>\n",
       "      <th>4</th>\n",
       "      <td>50</td>\n",
       "      <td>3</td>\n",
       "      <td>6</td>\n",
       "      <td>1</td>\n",
       "      <td>7</td>\n",
       "      <td>Alabama</td>\n",
       "      <td>Bibb County</td>\n",
       "      <td>22915</td>\n",
       "      <td>22919</td>\n",
       "      <td>22861</td>\n",
       "      <td>...</td>\n",
       "      <td>-5.527043</td>\n",
       "      <td>-5.068871</td>\n",
       "      <td>-6.201001</td>\n",
       "      <td>-0.177537</td>\n",
       "      <td>0.177258</td>\n",
       "      <td>-5.088389</td>\n",
       "      <td>-4.363636</td>\n",
       "      <td>-5.403729</td>\n",
       "      <td>0.754533</td>\n",
       "      <td>1.107861</td>\n",
       "    </tr>\n",
       "  </tbody>\n",
       "</table>\n",
       "<p>5 rows × 100 columns</p>\n",
       "</div>"
      ],
      "text/plain": [
       "   SUMLEV  REGION  DIVISION  STATE  COUNTY   STNAME         CTYNAME  \\\n",
       "0      40       3         6      1       0  Alabama         Alabama   \n",
       "1      50       3         6      1       1  Alabama  Autauga County   \n",
       "2      50       3         6      1       3  Alabama  Baldwin County   \n",
       "3      50       3         6      1       5  Alabama  Barbour County   \n",
       "4      50       3         6      1       7  Alabama     Bibb County   \n",
       "\n",
       "   CENSUS2010POP  ESTIMATESBASE2010  POPESTIMATE2010  ...  RDOMESTICMIG2011  \\\n",
       "0        4779736            4780127          4785161  ...          0.002295   \n",
       "1          54571              54571            54660  ...          7.242091   \n",
       "2         182265             182265           183193  ...         14.832960   \n",
       "3          27457              27457            27341  ...         -4.728132   \n",
       "4          22915              22919            22861  ...         -5.527043   \n",
       "\n",
       "   RDOMESTICMIG2012  RDOMESTICMIG2013  RDOMESTICMIG2014  RDOMESTICMIG2015  \\\n",
       "0         -0.193196          0.381066          0.582002         -0.467369   \n",
       "1         -2.915927         -3.012349          2.265971         -2.530799   \n",
       "2         17.647293         21.845705         19.243287         17.197872   \n",
       "3         -2.500690         -7.056824         -3.904217        -10.543299   \n",
       "4         -5.068871         -6.201001         -0.177537          0.177258   \n",
       "\n",
       "   RNETMIG2011  RNETMIG2012  RNETMIG2013  RNETMIG2014  RNETMIG2015  \n",
       "0     1.030015     0.826644     1.383282     1.724718     0.712594  \n",
       "1     7.606016    -2.626146    -2.722002     2.592270    -2.187333  \n",
       "2    15.844176    18.559627    22.727626    20.317142    18.293499  \n",
       "3    -4.874741    -2.758113    -7.167664    -3.978583   -10.543299  \n",
       "4    -5.088389    -4.363636    -5.403729     0.754533     1.107861  \n",
       "\n",
       "[5 rows x 100 columns]"
      ]
     },
     "execution_count": 3,
     "metadata": {},
     "output_type": "execute_result"
    }
   ],
   "source": [
    "census_df = pd.read_csv('census.csv')\n",
    "census_df.head()"
   ]
  },
  {
   "cell_type": "markdown",
   "metadata": {},
   "source": [
    "#### Question 5\n",
    "\n",
    "Split the `census_df` into two dataframes:\n",
    "  - `state_census_df`: containing state level records (i.e `SUMLEV` == 40)\n",
    "  - `city_census_df`: containing city level records (i.e `SUMLEV` == 50)\n",
    "  \n",
    "Return these two data frames."
   ]
  },
  {
   "cell_type": "code",
   "execution_count": 4,
   "metadata": {},
   "outputs": [
    {
     "name": "stdout",
     "output_type": "stream",
     "text": [
      "51 3142\n"
     ]
    }
   ],
   "source": [
    "def question_five():\n",
    "\n",
    "    state_census_df = census_df.loc[census_df['SUMLEV'] == 40]\n",
    "    city_census_df = census_df.loc[census_df['SUMLEV'] == 50]\n",
    "    \n",
    "    return state_census_df, city_census_df\n",
    "    \n",
    "# do not change the code below  \n",
    "state_census_df, city_census_df = question_five()\n",
    "print(len(state_census_df), len(city_census_df))"
   ]
  },
  {
   "cell_type": "markdown",
   "metadata": {},
   "source": [
    "**Expected Output**: \n",
    "<table >\n",
    "    <tr> \n",
    "        <td>51 3142</td> \n",
    "    </tr>\n",
    "</table> "
   ]
  },
  {
   "cell_type": "markdown",
   "metadata": {},
   "source": [
    "#### Question 6\n",
    "Find the total population based on 2010's census.\n",
    "\n",
    "Hint:\n",
    " - you should state_census_df saved from question 5 \n",
    " - use the column of `CENSUS2010POP` to sum up."
   ]
  },
  {
   "cell_type": "code",
   "execution_count": 5,
   "metadata": {},
   "outputs": [
    {
     "data": {
      "text/plain": [
       "308745538"
      ]
     },
     "execution_count": 5,
     "metadata": {},
     "output_type": "execute_result"
    }
   ],
   "source": [
    "def question_six():\n",
    "\n",
    "    return state_census_df['CENSUS2010POP'].sum()\n",
    "    \n",
    "    \n",
    "# do not change the code below  \n",
    "question_six()"
   ]
  },
  {
   "cell_type": "markdown",
   "metadata": {},
   "source": [
    "**Expected Output**: \n",
    "<table >\n",
    "    <tr> \n",
    "        <td> 308745538</td> \n",
    "    </tr>\n",
    "</table> "
   ]
  },
  {
   "cell_type": "markdown",
   "metadata": {},
   "source": [
    "#### Question 7\n",
    " - Creates a Series called `STATEPOPCHANGE` that is defined as the percentage change between the column of  `POPESTIMATE2015` and `POPESTIMATE2010` from `state_census_df`. This series object should be added into  `state_census_df`. \n",
    " - Select the rows that have column value `STATEPOPCHANGE` > 10.0\n",
    " - return dataframe that only shows the columns of ['STNAME', 'POPESTIMATE2010','POPESTIMATE2015', 'STATEPOPCHANGE']\n"
   ]
  },
  {
   "cell_type": "code",
   "execution_count": 6,
   "metadata": {
    "scrolled": true
   },
   "outputs": [
    {
     "data": {
      "text/html": [
       "<div>\n",
       "<style scoped>\n",
       "    .dataframe tbody tr th:only-of-type {\n",
       "        vertical-align: middle;\n",
       "    }\n",
       "\n",
       "    .dataframe tbody tr th {\n",
       "        vertical-align: top;\n",
       "    }\n",
       "\n",
       "    .dataframe thead th {\n",
       "        text-align: right;\n",
       "    }\n",
       "</style>\n",
       "<table border=\"1\" class=\"dataframe\">\n",
       "  <thead>\n",
       "    <tr style=\"text-align: right;\">\n",
       "      <th></th>\n",
       "      <th>STNAME</th>\n",
       "      <th>POPESTIMATE2010</th>\n",
       "      <th>POPESTIMATE2015</th>\n",
       "      <th>STATEPOPCHANGE</th>\n",
       "    </tr>\n",
       "  </thead>\n",
       "  <tbody>\n",
       "    <tr>\n",
       "      <th>327</th>\n",
       "      <td>District of Columbia</td>\n",
       "      <td>605126</td>\n",
       "      <td>672228</td>\n",
       "      <td>11.088930</td>\n",
       "    </tr>\n",
       "    <tr>\n",
       "      <th>2024</th>\n",
       "      <td>North Dakota</td>\n",
       "      <td>674530</td>\n",
       "      <td>756927</td>\n",
       "      <td>12.215469</td>\n",
       "    </tr>\n",
       "  </tbody>\n",
       "</table>\n",
       "</div>"
      ],
      "text/plain": [
       "                    STNAME  POPESTIMATE2010  POPESTIMATE2015  STATEPOPCHANGE\n",
       "327   District of Columbia           605126           672228       11.088930\n",
       "2024          North Dakota           674530           756927       12.215469"
      ]
     },
     "execution_count": 6,
     "metadata": {},
     "output_type": "execute_result"
    }
   ],
   "source": [
    "pd.options.mode.chained_assignment = None  # default='warn'\n",
    "\n",
    "def question_seven():\n",
    "\n",
    "    STATEPOPCHANGE = 100 * (state_census_df['POPESTIMATE2015'] - state_census_df['POPESTIMATE2010']) / state_census_df['POPESTIMATE2010']\n",
    "    state_census_df['STATEPOPCHANGE'] = STATEPOPCHANGE\n",
    "    return state_census_df.loc[state_census_df['STATEPOPCHANGE'] > 10.0, ['STNAME', 'POPESTIMATE2010','POPESTIMATE2015', 'STATEPOPCHANGE']]\n",
    "\n",
    "    \n",
    "# do not change the code below  \n",
    "question_seven()"
   ]
  },
  {
   "cell_type": "markdown",
   "metadata": {},
   "source": [
    "**Expected Output**: "
   ]
  },
  {
   "cell_type": "raw",
   "metadata": {},
   "source": [
    "\t        STNAME\t      POPESTIMATE2010\tPOPESTIMATE2015\tSTATEPOPCHANGE\n",
    "---------------------------------------------------------------------------\n",
    " 327\tDistrict of Columbia\t605126\t        672228\t      11.088930\n",
    "2024\tNorth Dakota\t        674530\t        756927\t      12.215469\n",
    "--------------------------------------------------------------------------- "
   ]
  },
  {
   "cell_type": "markdown",
   "metadata": {},
   "source": [
    "#### Question 8\n",
    "\n",
    "How many **unique** county names in USA? (Hint: Use dataframe `city_census_df`)?"
   ]
  },
  {
   "cell_type": "code",
   "execution_count": 7,
   "metadata": {
    "scrolled": false
   },
   "outputs": [
    {
     "data": {
      "text/plain": [
       "1877"
      ]
     },
     "execution_count": 7,
     "metadata": {},
     "output_type": "execute_result"
    }
   ],
   "source": [
    "def question_eight():\n",
    "\n",
    "\n",
    "    return len(pd.unique(city_census_df['CTYNAME']))\n",
    "    \n",
    "    \n",
    "# do not change the code below  \n",
    "question_eight()"
   ]
  },
  {
   "cell_type": "markdown",
   "metadata": {},
   "source": [
    "**Expected Output**: \n",
    "<table >\n",
    "    <tr> \n",
    "        <td>1877</td> \n",
    "    </tr>\n",
    "</table> "
   ]
  },
  {
   "cell_type": "markdown",
   "metadata": {},
   "source": [
    "**Note:** Questions 9-12 are related. That means, you must first your solution for Q9, then Q10, Q11 and finally Q12. Also use dataframe `city_census_df`.\n",
    "\n",
    "#### Question 9\n",
    "\n",
    "Find the most common county name in USA (i.e., having the highest number of counts in column `CTYNAME`)."
   ]
  },
  {
   "cell_type": "code",
   "execution_count": 8,
   "metadata": {},
   "outputs": [
    {
     "data": {
      "text/plain": [
       "'Washington County'"
      ]
     },
     "execution_count": 8,
     "metadata": {},
     "output_type": "execute_result"
    }
   ],
   "source": [
    "def question_nine():\n",
    "\n",
    "\n",
    "    most_common_city_name = city_census_df['CTYNAME'].value_counts().idxmax()\n",
    "\n",
    "    return most_common_city_name\n",
    "\n",
    "# do not change the code below  \n",
    "most_common_city_name = question_nine()\n",
    "most_common_city_name"
   ]
  },
  {
   "cell_type": "markdown",
   "metadata": {},
   "source": [
    "**Expected Output**: \n",
    "<table >\n",
    "    <tr> \n",
    "        <td>'Washington County'</td> \n",
    "    </tr>\n",
    "</table> "
   ]
  },
  {
   "cell_type": "markdown",
   "metadata": {},
   "source": [
    "#### Question 10\n",
    "\n",
    " - Step1: Find all rows (in dataframe `city_census_df`) that have the most common county name found in question 9\n",
    " - Step2: create a new dataframe `washington_df` that stores all the rows selected from Step1, and uses the columns of 'REGION','STNAME','CTYNAME'"
   ]
  },
  {
   "cell_type": "code",
   "execution_count": 16,
   "metadata": {},
   "outputs": [
    {
     "data": {
      "text/html": [
       "<div>\n",
       "<style scoped>\n",
       "    .dataframe tbody tr th:only-of-type {\n",
       "        vertical-align: middle;\n",
       "    }\n",
       "\n",
       "    .dataframe tbody tr th {\n",
       "        vertical-align: top;\n",
       "    }\n",
       "\n",
       "    .dataframe thead th {\n",
       "        text-align: right;\n",
       "    }\n",
       "</style>\n",
       "<table border=\"1\" class=\"dataframe\">\n",
       "  <thead>\n",
       "    <tr style=\"text-align: right;\">\n",
       "      <th></th>\n",
       "      <th>REGION</th>\n",
       "      <th>STNAME</th>\n",
       "      <th>CTYNAME</th>\n",
       "    </tr>\n",
       "  </thead>\n",
       "  <tbody>\n",
       "    <tr>\n",
       "      <th>65</th>\n",
       "      <td>3</td>\n",
       "      <td>Alabama</td>\n",
       "      <td>Washington County</td>\n",
       "    </tr>\n",
       "    <tr>\n",
       "      <th>186</th>\n",
       "      <td>3</td>\n",
       "      <td>Arkansas</td>\n",
       "      <td>Washington County</td>\n",
       "    </tr>\n",
       "    <tr>\n",
       "      <th>311</th>\n",
       "      <td>4</td>\n",
       "      <td>Colorado</td>\n",
       "      <td>Washington County</td>\n",
       "    </tr>\n",
       "    <tr>\n",
       "      <th>396</th>\n",
       "      <td>3</td>\n",
       "      <td>Florida</td>\n",
       "      <td>Washington County</td>\n",
       "    </tr>\n",
       "    <tr>\n",
       "      <th>547</th>\n",
       "      <td>3</td>\n",
       "      <td>Georgia</td>\n",
       "      <td>Washington County</td>\n",
       "    </tr>\n",
       "    <tr>\n",
       "      <th>607</th>\n",
       "      <td>4</td>\n",
       "      <td>Idaho</td>\n",
       "      <td>Washington County</td>\n",
       "    </tr>\n",
       "    <tr>\n",
       "      <th>703</th>\n",
       "      <td>2</td>\n",
       "      <td>Illinois</td>\n",
       "      <td>Washington County</td>\n",
       "    </tr>\n",
       "    <tr>\n",
       "      <th>799</th>\n",
       "      <td>2</td>\n",
       "      <td>Indiana</td>\n",
       "      <td>Washington County</td>\n",
       "    </tr>\n",
       "    <tr>\n",
       "      <th>896</th>\n",
       "      <td>2</td>\n",
       "      <td>Iowa</td>\n",
       "      <td>Washington County</td>\n",
       "    </tr>\n",
       "    <tr>\n",
       "      <th>1005</th>\n",
       "      <td>2</td>\n",
       "      <td>Kansas</td>\n",
       "      <td>Washington County</td>\n",
       "    </tr>\n",
       "    <tr>\n",
       "      <th>1125</th>\n",
       "      <td>3</td>\n",
       "      <td>Kentucky</td>\n",
       "      <td>Washington County</td>\n",
       "    </tr>\n",
       "    <tr>\n",
       "      <th>1211</th>\n",
       "      <td>1</td>\n",
       "      <td>Maine</td>\n",
       "      <td>Washington County</td>\n",
       "    </tr>\n",
       "    <tr>\n",
       "      <th>1234</th>\n",
       "      <td>3</td>\n",
       "      <td>Maryland</td>\n",
       "      <td>Washington County</td>\n",
       "    </tr>\n",
       "    <tr>\n",
       "      <th>1419</th>\n",
       "      <td>2</td>\n",
       "      <td>Minnesota</td>\n",
       "      <td>Washington County</td>\n",
       "    </tr>\n",
       "    <tr>\n",
       "      <th>1501</th>\n",
       "      <td>3</td>\n",
       "      <td>Mississippi</td>\n",
       "      <td>Washington County</td>\n",
       "    </tr>\n",
       "    <tr>\n",
       "      <th>1618</th>\n",
       "      <td>2</td>\n",
       "      <td>Missouri</td>\n",
       "      <td>Washington County</td>\n",
       "    </tr>\n",
       "    <tr>\n",
       "      <th>1770</th>\n",
       "      <td>2</td>\n",
       "      <td>Nebraska</td>\n",
       "      <td>Washington County</td>\n",
       "    </tr>\n",
       "    <tr>\n",
       "      <th>1918</th>\n",
       "      <td>1</td>\n",
       "      <td>New York</td>\n",
       "      <td>Washington County</td>\n",
       "    </tr>\n",
       "    <tr>\n",
       "      <th>2017</th>\n",
       "      <td>3</td>\n",
       "      <td>North Carolina</td>\n",
       "      <td>Washington County</td>\n",
       "    </tr>\n",
       "    <tr>\n",
       "      <th>2162</th>\n",
       "      <td>2</td>\n",
       "      <td>Ohio</td>\n",
       "      <td>Washington County</td>\n",
       "    </tr>\n",
       "    <tr>\n",
       "      <th>2241</th>\n",
       "      <td>3</td>\n",
       "      <td>Oklahoma</td>\n",
       "      <td>Washington County</td>\n",
       "    </tr>\n",
       "    <tr>\n",
       "      <th>2279</th>\n",
       "      <td>4</td>\n",
       "      <td>Oregon</td>\n",
       "      <td>Washington County</td>\n",
       "    </tr>\n",
       "    <tr>\n",
       "      <th>2345</th>\n",
       "      <td>1</td>\n",
       "      <td>Pennsylvania</td>\n",
       "      <td>Washington County</td>\n",
       "    </tr>\n",
       "    <tr>\n",
       "      <th>2355</th>\n",
       "      <td>1</td>\n",
       "      <td>Rhode Island</td>\n",
       "      <td>Washington County</td>\n",
       "    </tr>\n",
       "    <tr>\n",
       "      <th>2560</th>\n",
       "      <td>3</td>\n",
       "      <td>Tennessee</td>\n",
       "      <td>Washington County</td>\n",
       "    </tr>\n",
       "    <tr>\n",
       "      <th>2805</th>\n",
       "      <td>3</td>\n",
       "      <td>Texas</td>\n",
       "      <td>Washington County</td>\n",
       "    </tr>\n",
       "    <tr>\n",
       "      <th>2848</th>\n",
       "      <td>4</td>\n",
       "      <td>Utah</td>\n",
       "      <td>Washington County</td>\n",
       "    </tr>\n",
       "    <tr>\n",
       "      <th>2863</th>\n",
       "      <td>1</td>\n",
       "      <td>Vermont</td>\n",
       "      <td>Washington County</td>\n",
       "    </tr>\n",
       "    <tr>\n",
       "      <th>2957</th>\n",
       "      <td>3</td>\n",
       "      <td>Virginia</td>\n",
       "      <td>Washington County</td>\n",
       "    </tr>\n",
       "    <tr>\n",
       "      <th>3163</th>\n",
       "      <td>2</td>\n",
       "      <td>Wisconsin</td>\n",
       "      <td>Washington County</td>\n",
       "    </tr>\n",
       "  </tbody>\n",
       "</table>\n",
       "</div>"
      ],
      "text/plain": [
       "      REGION          STNAME            CTYNAME\n",
       "65         3         Alabama  Washington County\n",
       "186        3        Arkansas  Washington County\n",
       "311        4        Colorado  Washington County\n",
       "396        3         Florida  Washington County\n",
       "547        3         Georgia  Washington County\n",
       "607        4           Idaho  Washington County\n",
       "703        2        Illinois  Washington County\n",
       "799        2         Indiana  Washington County\n",
       "896        2            Iowa  Washington County\n",
       "1005       2          Kansas  Washington County\n",
       "1125       3        Kentucky  Washington County\n",
       "1211       1           Maine  Washington County\n",
       "1234       3        Maryland  Washington County\n",
       "1419       2       Minnesota  Washington County\n",
       "1501       3     Mississippi  Washington County\n",
       "1618       2        Missouri  Washington County\n",
       "1770       2        Nebraska  Washington County\n",
       "1918       1        New York  Washington County\n",
       "2017       3  North Carolina  Washington County\n",
       "2162       2            Ohio  Washington County\n",
       "2241       3        Oklahoma  Washington County\n",
       "2279       4          Oregon  Washington County\n",
       "2345       1    Pennsylvania  Washington County\n",
       "2355       1    Rhode Island  Washington County\n",
       "2560       3       Tennessee  Washington County\n",
       "2805       3           Texas  Washington County\n",
       "2848       4            Utah  Washington County\n",
       "2863       1         Vermont  Washington County\n",
       "2957       3        Virginia  Washington County\n",
       "3163       2       Wisconsin  Washington County"
      ]
     },
     "execution_count": 16,
     "metadata": {},
     "output_type": "execute_result"
    }
   ],
   "source": [
    "def question_ten():\n",
    "   \n",
    "    washington_df = city_census_df.loc[city_census_df['CTYNAME'] == most_common_city_name]\n",
    "    washington_df = washington_df[['REGION','STNAME','CTYNAME']]\n",
    "    \n",
    "    return washington_df\n",
    "    \n",
    "# do not change the code below  \n",
    "washington_df = question_ten()\n",
    "washington_df"
   ]
  },
  {
   "cell_type": "markdown",
   "metadata": {},
   "source": [
    "**Expected top-five lines**: "
   ]
  },
  {
   "cell_type": "raw",
   "metadata": {},
   "source": [
    "  REGION\t STNAME\t               CTYNAM\n",
    "---------------------------------------------\n",
    "65\t3\t     Alabama\t    Washington County\n",
    "186\t3\t    Arkansas\t    Washington County\n",
    "311\t4\t    Colorado\t    Washington County\n",
    "396\t3\t     Florida\t    Washington County\n",
    "547\t3\t     Georgia\t    Washington County"
   ]
  },
  {
   "cell_type": "markdown",
   "metadata": {},
   "source": [
    "#### Question 11\n",
    "\n",
    "From the dataframe `washington_df`, rename the `REGION` column values as follows:  1: \"Northeast\", 2: \"Midwest\", 3:\"South\", 4:\"West\" "
   ]
  },
  {
   "cell_type": "code",
   "execution_count": 14,
   "metadata": {
    "scrolled": true
   },
   "outputs": [
    {
     "data": {
      "text/html": [
       "<div>\n",
       "<style scoped>\n",
       "    .dataframe tbody tr th:only-of-type {\n",
       "        vertical-align: middle;\n",
       "    }\n",
       "\n",
       "    .dataframe tbody tr th {\n",
       "        vertical-align: top;\n",
       "    }\n",
       "\n",
       "    .dataframe thead th {\n",
       "        text-align: right;\n",
       "    }\n",
       "</style>\n",
       "<table border=\"1\" class=\"dataframe\">\n",
       "  <thead>\n",
       "    <tr style=\"text-align: right;\">\n",
       "      <th></th>\n",
       "      <th>REGION</th>\n",
       "      <th>STNAME</th>\n",
       "      <th>CTYNAME</th>\n",
       "    </tr>\n",
       "  </thead>\n",
       "  <tbody>\n",
       "    <tr>\n",
       "      <th>65</th>\n",
       "      <td>South</td>\n",
       "      <td>Alabama</td>\n",
       "      <td>Washington County</td>\n",
       "    </tr>\n",
       "    <tr>\n",
       "      <th>186</th>\n",
       "      <td>South</td>\n",
       "      <td>Arkansas</td>\n",
       "      <td>Washington County</td>\n",
       "    </tr>\n",
       "    <tr>\n",
       "      <th>311</th>\n",
       "      <td>West</td>\n",
       "      <td>Colorado</td>\n",
       "      <td>Washington County</td>\n",
       "    </tr>\n",
       "    <tr>\n",
       "      <th>396</th>\n",
       "      <td>South</td>\n",
       "      <td>Florida</td>\n",
       "      <td>Washington County</td>\n",
       "    </tr>\n",
       "    <tr>\n",
       "      <th>547</th>\n",
       "      <td>South</td>\n",
       "      <td>Georgia</td>\n",
       "      <td>Washington County</td>\n",
       "    </tr>\n",
       "    <tr>\n",
       "      <th>607</th>\n",
       "      <td>West</td>\n",
       "      <td>Idaho</td>\n",
       "      <td>Washington County</td>\n",
       "    </tr>\n",
       "    <tr>\n",
       "      <th>703</th>\n",
       "      <td>Midwest</td>\n",
       "      <td>Illinois</td>\n",
       "      <td>Washington County</td>\n",
       "    </tr>\n",
       "    <tr>\n",
       "      <th>799</th>\n",
       "      <td>Midwest</td>\n",
       "      <td>Indiana</td>\n",
       "      <td>Washington County</td>\n",
       "    </tr>\n",
       "    <tr>\n",
       "      <th>896</th>\n",
       "      <td>Midwest</td>\n",
       "      <td>Iowa</td>\n",
       "      <td>Washington County</td>\n",
       "    </tr>\n",
       "    <tr>\n",
       "      <th>1005</th>\n",
       "      <td>Midwest</td>\n",
       "      <td>Kansas</td>\n",
       "      <td>Washington County</td>\n",
       "    </tr>\n",
       "    <tr>\n",
       "      <th>1125</th>\n",
       "      <td>South</td>\n",
       "      <td>Kentucky</td>\n",
       "      <td>Washington County</td>\n",
       "    </tr>\n",
       "    <tr>\n",
       "      <th>1211</th>\n",
       "      <td>Northeast</td>\n",
       "      <td>Maine</td>\n",
       "      <td>Washington County</td>\n",
       "    </tr>\n",
       "    <tr>\n",
       "      <th>1234</th>\n",
       "      <td>South</td>\n",
       "      <td>Maryland</td>\n",
       "      <td>Washington County</td>\n",
       "    </tr>\n",
       "    <tr>\n",
       "      <th>1419</th>\n",
       "      <td>Midwest</td>\n",
       "      <td>Minnesota</td>\n",
       "      <td>Washington County</td>\n",
       "    </tr>\n",
       "    <tr>\n",
       "      <th>1501</th>\n",
       "      <td>South</td>\n",
       "      <td>Mississippi</td>\n",
       "      <td>Washington County</td>\n",
       "    </tr>\n",
       "    <tr>\n",
       "      <th>1618</th>\n",
       "      <td>Midwest</td>\n",
       "      <td>Missouri</td>\n",
       "      <td>Washington County</td>\n",
       "    </tr>\n",
       "    <tr>\n",
       "      <th>1770</th>\n",
       "      <td>Midwest</td>\n",
       "      <td>Nebraska</td>\n",
       "      <td>Washington County</td>\n",
       "    </tr>\n",
       "    <tr>\n",
       "      <th>1918</th>\n",
       "      <td>Northeast</td>\n",
       "      <td>New York</td>\n",
       "      <td>Washington County</td>\n",
       "    </tr>\n",
       "    <tr>\n",
       "      <th>2017</th>\n",
       "      <td>South</td>\n",
       "      <td>North Carolina</td>\n",
       "      <td>Washington County</td>\n",
       "    </tr>\n",
       "    <tr>\n",
       "      <th>2162</th>\n",
       "      <td>Midwest</td>\n",
       "      <td>Ohio</td>\n",
       "      <td>Washington County</td>\n",
       "    </tr>\n",
       "    <tr>\n",
       "      <th>2241</th>\n",
       "      <td>South</td>\n",
       "      <td>Oklahoma</td>\n",
       "      <td>Washington County</td>\n",
       "    </tr>\n",
       "    <tr>\n",
       "      <th>2279</th>\n",
       "      <td>West</td>\n",
       "      <td>Oregon</td>\n",
       "      <td>Washington County</td>\n",
       "    </tr>\n",
       "    <tr>\n",
       "      <th>2345</th>\n",
       "      <td>Northeast</td>\n",
       "      <td>Pennsylvania</td>\n",
       "      <td>Washington County</td>\n",
       "    </tr>\n",
       "    <tr>\n",
       "      <th>2355</th>\n",
       "      <td>Northeast</td>\n",
       "      <td>Rhode Island</td>\n",
       "      <td>Washington County</td>\n",
       "    </tr>\n",
       "    <tr>\n",
       "      <th>2560</th>\n",
       "      <td>South</td>\n",
       "      <td>Tennessee</td>\n",
       "      <td>Washington County</td>\n",
       "    </tr>\n",
       "    <tr>\n",
       "      <th>2805</th>\n",
       "      <td>South</td>\n",
       "      <td>Texas</td>\n",
       "      <td>Washington County</td>\n",
       "    </tr>\n",
       "    <tr>\n",
       "      <th>2848</th>\n",
       "      <td>West</td>\n",
       "      <td>Utah</td>\n",
       "      <td>Washington County</td>\n",
       "    </tr>\n",
       "    <tr>\n",
       "      <th>2863</th>\n",
       "      <td>Northeast</td>\n",
       "      <td>Vermont</td>\n",
       "      <td>Washington County</td>\n",
       "    </tr>\n",
       "    <tr>\n",
       "      <th>2957</th>\n",
       "      <td>South</td>\n",
       "      <td>Virginia</td>\n",
       "      <td>Washington County</td>\n",
       "    </tr>\n",
       "    <tr>\n",
       "      <th>3163</th>\n",
       "      <td>Midwest</td>\n",
       "      <td>Wisconsin</td>\n",
       "      <td>Washington County</td>\n",
       "    </tr>\n",
       "  </tbody>\n",
       "</table>\n",
       "</div>"
      ],
      "text/plain": [
       "         REGION          STNAME            CTYNAME\n",
       "65        South         Alabama  Washington County\n",
       "186       South        Arkansas  Washington County\n",
       "311        West        Colorado  Washington County\n",
       "396       South         Florida  Washington County\n",
       "547       South         Georgia  Washington County\n",
       "607        West           Idaho  Washington County\n",
       "703     Midwest        Illinois  Washington County\n",
       "799     Midwest         Indiana  Washington County\n",
       "896     Midwest            Iowa  Washington County\n",
       "1005    Midwest          Kansas  Washington County\n",
       "1125      South        Kentucky  Washington County\n",
       "1211  Northeast           Maine  Washington County\n",
       "1234      South        Maryland  Washington County\n",
       "1419    Midwest       Minnesota  Washington County\n",
       "1501      South     Mississippi  Washington County\n",
       "1618    Midwest        Missouri  Washington County\n",
       "1770    Midwest        Nebraska  Washington County\n",
       "1918  Northeast        New York  Washington County\n",
       "2017      South  North Carolina  Washington County\n",
       "2162    Midwest            Ohio  Washington County\n",
       "2241      South        Oklahoma  Washington County\n",
       "2279       West          Oregon  Washington County\n",
       "2345  Northeast    Pennsylvania  Washington County\n",
       "2355  Northeast    Rhode Island  Washington County\n",
       "2560      South       Tennessee  Washington County\n",
       "2805      South           Texas  Washington County\n",
       "2848       West            Utah  Washington County\n",
       "2863  Northeast         Vermont  Washington County\n",
       "2957      South        Virginia  Washington County\n",
       "3163    Midwest       Wisconsin  Washington County"
      ]
     },
     "execution_count": 14,
     "metadata": {},
     "output_type": "execute_result"
    }
   ],
   "source": [
    "def question_eleven():\n",
    " \n",
    "    washington_df['REGION'] = washington_df['REGION'].replace({1: \"Northeast\", 2: \"Midwest\", 3:\"South\", 4:\"West\"}) \n",
    "\n",
    "    return  washington_df\n",
    "\n",
    "# do not change the code below  \n",
    "washington_df = question_eleven()\n",
    "washington_df"
   ]
  },
  {
   "cell_type": "markdown",
   "metadata": {},
   "source": [
    "**Expected top-five lines**: "
   ]
  },
  {
   "cell_type": "raw",
   "metadata": {},
   "source": [
    "  REGION\t STNAME\t               CTYNAM\n",
    "---------------------------------------------\n",
    "65\t3\t     Alabama\t    Washington County\n",
    "186\t3\t    Arkansas\t    Washington County\n",
    "311\t4\t    Colorado\t    Washington County\n",
    "396\t3\t     Florida\t    Washington County\n",
    "547\t3\t     Georgia\t    Washington County"
   ]
  },
  {
   "cell_type": "markdown",
   "metadata": {},
   "source": [
    "#### Question 12\n",
    "\n",
    "From the dataframe washington_df, return the value counts for each `REGION`. "
   ]
  },
  {
   "cell_type": "code",
   "execution_count": 15,
   "metadata": {},
   "outputs": [
    {
     "data": {
      "text/plain": [
       "South        12\n",
       "Midwest       9\n",
       "Northeast     5\n",
       "West          4\n",
       "Name: REGION, dtype: int64"
      ]
     },
     "execution_count": 15,
     "metadata": {},
     "output_type": "execute_result"
    }
   ],
   "source": [
    "washington_df['REGION'].value_counts()\n",
    "\n",
    "def question_twelve():\n",
    "\n",
    "    return washington_df['REGION'].value_counts()\n",
    "    \n",
    "    \n",
    "# do not change the code below  \n",
    "question_twelve()"
   ]
  },
  {
   "cell_type": "markdown",
   "metadata": {},
   "source": [
    "**Expected output**: "
   ]
  },
  {
   "cell_type": "raw",
   "metadata": {},
   "source": [
    "                                        South        12\n",
    "                                        Midwest       9\n",
    "                                        Northeast     5\n",
    "                                        West          4\n",
    "                                        Name: REGION, dtype: int64"
   ]
  },
  {
   "cell_type": "code",
   "execution_count": null,
   "metadata": {},
   "outputs": [],
   "source": []
  }
 ],
 "metadata": {
  "anaconda-cloud": {},
  "coursera": {
   "course_slug": "python-data-analysis",
   "graded_item_id": "tHmgx",
   "launcher_item_id": "Um6Bz",
   "part_id": "OQsnr"
  },
  "kernelspec": {
   "display_name": "Python 3 (ipykernel)",
   "language": "python",
   "name": "python3"
  },
  "language_info": {
   "codemirror_mode": {
    "name": "ipython",
    "version": 3
   },
   "file_extension": ".py",
   "mimetype": "text/x-python",
   "name": "python",
   "nbconvert_exporter": "python",
   "pygments_lexer": "ipython3",
   "version": "3.7.13"
  },
  "umich": {
   "id": "Assignment 2",
   "version": "1.2"
  }
 },
 "nbformat": 4,
 "nbformat_minor": 1
}
